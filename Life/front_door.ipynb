{
 "cells": [
  {
   "cell_type": "markdown",
   "metadata": {},
   "source": [
    "<details>\n",
    "<summary>Old pwd</summary>\n",
    "'6813',\n",
    "'8231',\n",
    "'7543',\n",
    "'6600',\n",
    "'5047',\n",
    "'1050',\n",
    "'9674',\n",
    "'8840',\n",
    "'9808',\n",
    "'0870'\n",
    "\n",
    "</details>"
   ]
  },
  {
   "cell_type": "code",
   "execution_count": null,
   "metadata": {},
   "outputs": [],
   "source": [
    "import random\n",
    "\n",
    "# generate new password\n",
    "for j in range(10): # how many passwords\n",
    "    for i in range(4): # how many digit\n",
    "        print('{}'.format(random.randrange(0, 10)), end='')\n",
    "    print()\n"
   ]
  }
 ],
 "metadata": {
  "language_info": {
   "name": "python"
  },
  "orig_nbformat": 4
 },
 "nbformat": 4,
 "nbformat_minor": 2
}
