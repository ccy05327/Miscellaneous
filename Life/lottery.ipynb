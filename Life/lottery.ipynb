{
 "cells": [
  {
   "cell_type": "code",
   "execution_count": 2,
   "metadata": {},
   "outputs": [],
   "source": [
    "import random"
   ]
  },
  {
   "cell_type": "code",
   "execution_count": 6,
   "metadata": {},
   "outputs": [
    {
     "data": {
      "text/plain": [
       "[['David', 'Jay', 'Nikola', 'Tan'],\n",
       " ['Fatemeh', 'Lukas', 'Cindy', 'Ibrahim'],\n",
       " ['Narmeen', 'Danica', 'Satyam', 'Akhil'],\n",
       " ['Jamiul']]"
      ]
     },
     "execution_count": 6,
     "metadata": {},
     "output_type": "execute_result"
    }
   ],
   "source": [
    "members = ['Jay', 'Cindy', 'Tan', 'Jamiul', 'Narmeen', 'Lukas', 'Fatemeh', 'Ibrahim', 'Nikola', 'Danica', 'Akhil', 'Satyam', 'David']\n",
    "\n",
    "def chunks(l, n):\n",
    "    for i in range(0, len(l), n):\n",
    "        yield l[i:i + n]\n",
    "\n",
    "random.shuffle(members)\n",
    "list(chunks(members, 4))"
   ]
  },
  {
   "cell_type": "code",
   "execution_count": 3,
   "metadata": {},
   "outputs": [
    {
     "data": {
      "text/plain": [
       "[['Lukas', 'Ibrahim', 'Nikola', 'Jay'],\n",
       " ['Akhil', 'Danica', 'Fatemeh', 'David'],\n",
       " ['Satyam', 'Narmeen', 'Cindy', 'Tan'],\n",
       " ['Jamiul']]"
      ]
     },
     "execution_count": 3,
     "metadata": {},
     "output_type": "execute_result"
    }
   ],
   "source": [
    "members = ['Jay', 'Cindy', 'Tan', 'Jamiul', 'Narmeen', 'Lukas', 'Fatemeh', 'Ibrahim', 'Nikola', 'Danica', 'Akhil', 'Satyam', 'David']\n",
    "\n",
    "def chunks(l, n):\n",
    "    for i in range(0, len(l), n):\n",
    "        yield l[i:i + n]\n",
    "\n",
    "random.shuffle(members)\n",
    "list(chunks(members, 4))"
   ]
  },
  {
   "cell_type": "code",
   "execution_count": null,
   "metadata": {},
   "outputs": [],
   "source": []
  }
 ],
 "metadata": {
  "kernelspec": {
   "display_name": "Python 3.10.7 64-bit (microsoft store)",
   "language": "python",
   "name": "python3"
  },
  "language_info": {
   "codemirror_mode": {
    "name": "ipython",
    "version": 3
   },
   "file_extension": ".py",
   "mimetype": "text/x-python",
   "name": "python",
   "nbconvert_exporter": "python",
   "pygments_lexer": "ipython3",
   "version": "3.10.8"
  },
  "orig_nbformat": 4,
  "vscode": {
   "interpreter": {
    "hash": "82100b32c1dbedbe770441b0a4ba55d748b54aa805bade67d58c2f775f7820e2"
   }
  }
 },
 "nbformat": 4,
 "nbformat_minor": 2
}
