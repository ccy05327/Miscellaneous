{
 "cells": [
  {
   "cell_type": "code",
   "execution_count": 63,
   "metadata": {},
   "outputs": [],
   "source": [
    "def single(F, S):\n",
    "    target = ord(F)\n",
    "    count = 0\n",
    "    for i in S:\n",
    "        current = ord(i)\n",
    "        if current > target:\n",
    "            count += current - target\n",
    "        else:\n",
    "            count += target - current\n",
    "    oper.append(count)\n",
    "    return oper"
   ]
  },
  {
   "cell_type": "markdown",
   "metadata": {},
   "source": [
    "Have to be able to count from the other way (a -> z should be 1 instead of 25)"
   ]
  },
  {
   "cell_type": "code",
   "execution_count": 64,
   "metadata": {},
   "outputs": [],
   "source": [
    "def multiple(F, S):\n",
    "    count = 0\n",
    "    for i in S:\n",
    "        current = ord(i)\n",
    "        one2one_min = 26\n",
    "        _temp_diff = []\n",
    "        for j in F:\n",
    "            target = ord(j)\n",
    "            # print('current', current, 'target', target)\n",
    "            diff1 = current - target\n",
    "            diff2 = target - current\n",
    "\n",
    "            if diff1 > 0 and diff1 < one2one_min:\n",
    "                _temp_diff.append(diff1)\n",
    "                # print('diff1', diff1)\n",
    "            if diff2 > 0 and diff2 < one2one_min:\n",
    "                _temp_diff.append(diff2)\n",
    "                # print('diff2', diff2)\n",
    "            if current == target:\n",
    "                _temp_diff.append(0)\n",
    "\n",
    "            # print('_temp_diff', _temp_diff)\n",
    "        count += min(_temp_diff)\n",
    "        # print('count', count)\n",
    "    oper.append(count)\n",
    "    return oper"
   ]
  },
  {
   "cell_type": "code",
   "execution_count": 72,
   "metadata": {},
   "outputs": [
    {
     "name": "stdout",
     "output_type": "stream",
     "text": [
      "Case #1: 25\n",
      "Case #2: 23\n"
     ]
    }
   ],
   "source": [
    "T = int(input())\n",
    "oper = []\n",
    "for i in range(T):\n",
    "    S = input() # 1~10^5, lower case\n",
    "    F = input() # 1, distinct lower case\n",
    "\n",
    "    if len(F)==1:\n",
    "        oper = single(F, S)\n",
    "    else:\n",
    "        oper = multiple(F, S)\n",
    "            \n",
    "for i in range(1, T+1):    \n",
    "    print('Case #{}: {}'.format(i, oper[i-1]))"
   ]
  },
  {
   "cell_type": "code",
   "execution_count": null,
   "metadata": {},
   "outputs": [],
   "source": []
  }
 ],
 "metadata": {
  "interpreter": {
   "hash": "722b4b02d138d58aa8961ff92d9e7c8e4a79554b31fe8e4fa1dd8a0b77649e58"
  },
  "kernelspec": {
   "display_name": "Python 3.9.6 64-bit",
   "language": "python",
   "name": "python3"
  },
  "language_info": {
   "codemirror_mode": {
    "name": "ipython",
    "version": 3
   },
   "file_extension": ".py",
   "mimetype": "text/x-python",
   "name": "python",
   "nbconvert_exporter": "python",
   "pygments_lexer": "ipython3",
   "version": "3.10.2"
  },
  "orig_nbformat": 4
 },
 "nbformat": 4,
 "nbformat_minor": 2
}
