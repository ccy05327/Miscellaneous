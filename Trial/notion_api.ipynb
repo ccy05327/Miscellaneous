{
 "cells": [
  {
   "cell_type": "code",
   "execution_count": 55,
   "metadata": {},
   "outputs": [],
   "source": [
    "import requests, json\n",
    "\n",
    "url = r\"https://api.notion.com/v1/pages\"\n",
    "TOKEN = \"secret_7PqNCrGT832mLnMdD1F2ziXbRVobSD2EZCj59OjApCj\"\n",
    "DATABASE_ID = \"8e0bd1ccc76e4783aac2a96bfed554b8\"\n",
    "\n",
    "headers = {\n",
    "    \"Authorization\": \"Bearer \" + TOKEN,\n",
    "    \"Content-Type\": \"application/json\",\n",
    "    \"Notion-Version\": \"2021-08-16\"\n",
    "}\n"
   ]
  },
  {
   "cell_type": "code",
   "execution_count": 56,
   "metadata": {},
   "outputs": [],
   "source": [
    "def readDatabase(databaseId, headers):\n",
    "    readUrl = f\"https://api.notion.com/v1/databases/{databaseId}/query\"\n",
    "\n",
    "    res = requests.request(\"POST\", readUrl, headers=headers)\n",
    "    data = res.json()\n",
    "    print(res.status_code)\n",
    "    # print(res.text)\n",
    "\n",
    "    with open('./db.json', 'w', encoding='utf8') as f:\n",
    "        json.dump(data, f, ensure_ascii=False)\n"
   ]
  },
  {
   "cell_type": "code",
   "execution_count": 57,
   "metadata": {},
   "outputs": [
    {
     "name": "stdout",
     "output_type": "stream",
     "text": [
      "200\n"
     ]
    }
   ],
   "source": [
    "readDatabase(DATABASE_ID, headers)"
   ]
  },
  {
   "cell_type": "code",
   "execution_count": 58,
   "metadata": {},
   "outputs": [],
   "source": [
    "def createPage(databaseId, headers):\n",
    "\n",
    "    createUrl = 'https://api.notion.com/v1/pages'\n",
    "\n",
    "    newPageData = {\n",
    "        \"parent\": { \"database_id\": databaseId },\n",
    "        \"properties\": {\n",
    "            \"Grade\": {\"type\": \"number\", \"number\": 75},\n",
    "            \"Date\": {\"type\": \"date\", \"date\": {\"start\": \"2022-02-11T08:00:00.000+20:00\"}},\n",
    "            \"Module\": {\"id\": \"title\", \"type\": \"title\", \"title\": [{\"type\": \"text\", \"text\":{\"content\": \"WD\"}}]}\n",
    "        }\n",
    "    }\n",
    "    \n",
    "    data = json.dumps(newPageData)\n",
    "    # print(str(uploadData))\n",
    "\n",
    "    res = requests.request(\"POST\", createUrl, headers=headers, data=data)\n",
    "\n",
    "    print(res.status_code)\n",
    "    print(res.text)"
   ]
  },
  {
   "cell_type": "code",
   "execution_count": 59,
   "metadata": {},
   "outputs": [
    {
     "name": "stdout",
     "output_type": "stream",
     "text": [
      "200\n",
      "{\"object\":\"page\",\"id\":\"2a5ff147-9792-41c6-8bbe-1567383e7453\",\"created_time\":\"2022-02-11T10:53:00.000Z\",\"last_edited_time\":\"2022-02-11T10:53:00.000Z\",\"cover\":null,\"icon\":null,\"parent\":{\"type\":\"database_id\",\"database_id\":\"8e0bd1cc-c76e-4783-aac2-a96bfed554b8\"},\"archived\":false,\"properties\":{\"Grade\":{\"id\":\"k%5BLD\",\"type\":\"number\",\"number\":75},\"Date\":{\"id\":\"sXdg\",\"type\":\"date\",\"date\":{\"start\":\"2022-02-11T08:00:00.000+00:00\",\"end\":null,\"time_zone\":null}},\"Module\":{\"id\":\"title\",\"type\":\"title\",\"title\":[{\"type\":\"text\",\"text\":{\"content\":\"WD\",\"link\":null},\"annotations\":{\"bold\":false,\"italic\":false,\"strikethrough\":false,\"underline\":false,\"code\":false,\"color\":\"default\"},\"plain_text\":\"WD\",\"href\":null}]}},\"url\":\"https://www.notion.so/WD-2a5ff147979241c68bbe1567383e7453\"}\n"
     ]
    }
   ],
   "source": [
    "createPage(DATABASE_ID, headers)"
   ]
  },
  {
   "cell_type": "code",
   "execution_count": 66,
   "metadata": {},
   "outputs": [],
   "source": [
    "def updatePage(pageId, headers):\n",
    "    updateUrl = f\"https://api.notion.com/v1/pages/{pageId}\"\n",
    "\n",
    "    updateData = {\n",
    "        \"properties\": {\n",
    "            \"Grade\": {\"type\": \"number\", \"number\": 100}\n",
    "        }\n",
    "    }\n",
    "\n",
    "    data = json.dumps(updateData)\n",
    "\n",
    "    response = requests.request(\"PATCH\", updateUrl, headers=headers, data=data)\n",
    "\n",
    "    print(response.status_code)\n",
    "    print(response.text)\n"
   ]
  },
  {
   "cell_type": "code",
   "execution_count": 67,
   "metadata": {},
   "outputs": [
    {
     "name": "stdout",
     "output_type": "stream",
     "text": [
      "200\n",
      "{\"object\":\"page\",\"id\":\"f3980047-0250-42c5-9a9a-946835aa9674\",\"created_time\":\"2022-02-11T07:12:00.000Z\",\"last_edited_time\":\"2022-02-11T10:56:00.000Z\",\"cover\":null,\"icon\":null,\"parent\":{\"type\":\"database_id\",\"database_id\":\"8e0bd1cc-c76e-4783-aac2-a96bfed554b8\"},\"archived\":false,\"properties\":{\"Grade\":{\"id\":\"k%5BLD\",\"type\":\"number\",\"number\":100},\"Date\":{\"id\":\"sXdg\",\"type\":\"date\",\"date\":{\"start\":\"2022-02-19T08:00:00.000+08:00\",\"end\":\"2022-02-19T14:50:00.000+08:00\",\"time_zone\":null}},\"Module\":{\"id\":\"title\",\"type\":\"title\",\"title\":[{\"type\":\"text\",\"text\":{\"content\":\"ADS1\",\"link\":null},\"annotations\":{\"bold\":false,\"italic\":false,\"strikethrough\":false,\"underline\":false,\"code\":false,\"color\":\"default\"},\"plain_text\":\"ADS1\",\"href\":null}]}},\"url\":\"https://www.notion.so/ADS1-f3980047025042c59a9a946835aa9674\"}\n"
     ]
    }
   ],
   "source": [
    "updatePage(\"f3980047-0250-42c5-9a9a-946835aa9674\", headers)\n"
   ]
  },
  {
   "cell_type": "code",
   "execution_count": null,
   "metadata": {},
   "outputs": [],
   "source": []
  }
 ],
 "metadata": {
  "interpreter": {
   "hash": "8944ac20941febd3898b0b9a08c0e7cafc7c4835a26d6ed6b5e365f07f1b2728"
  },
  "kernelspec": {
   "display_name": "Python 3.8.10 ('base')",
   "language": "python",
   "name": "python3"
  },
  "language_info": {
   "codemirror_mode": {
    "name": "ipython",
    "version": 3
   },
   "file_extension": ".py",
   "mimetype": "text/x-python",
   "name": "python",
   "nbconvert_exporter": "python",
   "pygments_lexer": "ipython3",
   "version": "3.8.10"
  },
  "orig_nbformat": 4
 },
 "nbformat": 4,
 "nbformat_minor": 2
}
