{
 "cells": [
  {
   "cell_type": "markdown",
   "metadata": {},
   "source": [
    "Extract Grade from Inspector"
   ]
  },
  {
   "cell_type": "code",
   "execution_count": 1,
   "metadata": {},
   "outputs": [],
   "source": [
    "import pandas as pd\n",
    "from pandas import json_normalize\n",
    "import json"
   ]
  },
  {
   "cell_type": "markdown",
   "metadata": {},
   "source": [
    "read json file"
   ]
  },
  {
   "cell_type": "code",
   "execution_count": 2,
   "metadata": {},
   "outputs": [],
   "source": [
    "with open('output.json', 'r') as j:\n",
    "    content = json.loads(j.read())"
   ]
  },
  {
   "cell_type": "markdown",
   "metadata": {},
   "source": [
    "change header names"
   ]
  },
  {
   "cell_type": "code",
   "execution_count": 7,
   "metadata": {},
   "outputs": [],
   "source": [
    "df = pd.json_normalize(content['calendarItems'])\n",
    "df.rename(columns={'assignment.isOverdue': 'overdue', 'assignment.assignmentName': 'name',\n",
    "                   'assignment.courseName': 'course', 'assignment.assignmentType': 'type',\n",
    "                   'assignment.progressState': 'progress', 'assignment.isComplete': 'complete',\n",
    "                   'assignment.assignmentUrl':'url-a', 'assignment.courseUrl': 'url-c',\n",
    "                   'assignment.dueAtTime': 'due-time', 'assignment.grade': 'grade', 'assignment.gradingWeight': 'weight', 'assignment.gradedAtTime': 'graded-time', 'event.eventTitle': 'event-title', 'event.courseName': 'event-name', 'event.eventUrl': 'url-e', 'event.courseUrl': 'url-c-e', 'event.startTime': 'event-start', 'event.endTime': 'event-end'}, inplace=True)\n",
    "# df.columns"
   ]
  },
  {
   "cell_type": "markdown",
   "metadata": {},
   "source": [
    "extract needed columns"
   ]
  },
  {
   "cell_type": "code",
   "execution_count": 8,
   "metadata": {},
   "outputs": [],
   "source": [
    "df = df[['name', 'grade', 'weight', 'graded-time']]\n",
    "# df.head()"
   ]
  },
  {
   "cell_type": "markdown",
   "metadata": {},
   "source": [
    "different ways to view"
   ]
  },
  {
   "cell_type": "code",
   "execution_count": 5,
   "metadata": {},
   "outputs": [
    {
     "data": {
      "text/plain": [
       "30   NaN\n",
       "Name: grade, dtype: float64"
      ]
     },
     "execution_count": 5,
     "metadata": {},
     "output_type": "execute_result"
    }
   ],
   "source": [
    "# change name to your assignment name to view grade\n",
    "df[df.name=='Sudoku assignment [001]'].grade"
   ]
  },
  {
   "cell_type": "markdown",
   "metadata": {},
   "source": [
    "Extract by index (because I know the index by heart now)"
   ]
  },
  {
   "cell_type": "code",
   "execution_count": 6,
   "metadata": {},
   "outputs": [
    {
     "data": {
      "text/html": [
       "<div>\n",
       "<style scoped>\n",
       "    .dataframe tbody tr th:only-of-type {\n",
       "        vertical-align: middle;\n",
       "    }\n",
       "\n",
       "    .dataframe tbody tr th {\n",
       "        vertical-align: top;\n",
       "    }\n",
       "\n",
       "    .dataframe thead th {\n",
       "        text-align: right;\n",
       "    }\n",
       "</style>\n",
       "<table border=\"1\" class=\"dataframe\">\n",
       "  <thead>\n",
       "    <tr style=\"text-align: right;\">\n",
       "      <th></th>\n",
       "      <th>name</th>\n",
       "      <th>grade</th>\n",
       "      <th>weight</th>\n",
       "      <th>graded-time</th>\n",
       "    </tr>\n",
       "  </thead>\n",
       "  <tbody>\n",
       "    <tr>\n",
       "      <th>30</th>\n",
       "      <td>Sudoku assignment [001]</td>\n",
       "      <td>NaN</td>\n",
       "      <td>0.40000</td>\n",
       "      <td>NaN</td>\n",
       "    </tr>\n",
       "    <tr>\n",
       "      <th>31</th>\n",
       "      <td>Mid-term programming assignment [001]</td>\n",
       "      <td>NaN</td>\n",
       "      <td>0.50000</td>\n",
       "      <td>NaN</td>\n",
       "    </tr>\n",
       "    <tr>\n",
       "      <th>32</th>\n",
       "      <td>Coursework 1.2 Submission of the individual re...</td>\n",
       "      <td>NaN</td>\n",
       "      <td>0.09999</td>\n",
       "      <td>NaN</td>\n",
       "    </tr>\n",
       "    <tr>\n",
       "      <th>33</th>\n",
       "      <td>Coursework 1.1 A single bundled team assignmen...</td>\n",
       "      <td>NaN</td>\n",
       "      <td>0.20001</td>\n",
       "      <td>NaN</td>\n",
       "    </tr>\n",
       "  </tbody>\n",
       "</table>\n",
       "</div>"
      ],
      "text/plain": [
       "                                                 name  grade   weight  \\\n",
       "30                            Sudoku assignment [001]    NaN  0.40000   \n",
       "31              Mid-term programming assignment [001]    NaN  0.50000   \n",
       "32  Coursework 1.2 Submission of the individual re...    NaN  0.09999   \n",
       "33  Coursework 1.1 A single bundled team assignmen...    NaN  0.20001   \n",
       "\n",
       "   graded-time  \n",
       "30         NaN  \n",
       "31         NaN  \n",
       "32         NaN  \n",
       "33         NaN  "
      ]
     },
     "execution_count": 6,
     "metadata": {},
     "output_type": "execute_result"
    }
   ],
   "source": [
    "# change index to your assignment indices to view\n",
    "df.iloc[[30, 31, 32, 33]]"
   ]
  }
 ],
 "metadata": {
  "interpreter": {
   "hash": "8944ac20941febd3898b0b9a08c0e7cafc7c4835a26d6ed6b5e365f07f1b2728"
  },
  "kernelspec": {
   "display_name": "Python 3.8.10 64-bit ('base': conda)",
   "language": "python",
   "name": "python3"
  },
  "language_info": {
   "codemirror_mode": {
    "name": "ipython",
    "version": 3
   },
   "file_extension": ".py",
   "mimetype": "text/x-python",
   "name": "python",
   "nbconvert_exporter": "python",
   "pygments_lexer": "ipython3",
   "version": "3.9.6"
  },
  "orig_nbformat": 4
 },
 "nbformat": 4,
 "nbformat_minor": 2
}
