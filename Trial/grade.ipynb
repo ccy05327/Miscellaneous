{
 "cells": [
  {
   "cell_type": "markdown",
   "metadata": {},
   "source": [
    "Extract Grade from Inspector"
   ]
  },
  {
   "cell_type": "code",
   "execution_count": 1,
   "metadata": {},
   "outputs": [],
   "source": [
    "import pandas as pd\n",
    "from pandas import json_normalize\n",
    "import json\n",
    "from bs4 import BeautifulSoup\n",
    "import requests"
   ]
  },
  {
   "cell_type": "markdown",
   "metadata": {},
   "source": [
    "read json file"
   ]
  },
  {
   "cell_type": "code",
   "execution_count": 2,
   "metadata": {},
   "outputs": [],
   "source": [
    "with open('output.json', 'r') as j:\n",
    "    content = json.loads(j.read())"
   ]
  },
  {
   "cell_type": "markdown",
   "metadata": {},
   "source": [
    "change header names"
   ]
  },
  {
   "cell_type": "code",
   "execution_count": 3,
   "metadata": {},
   "outputs": [],
   "source": [
    "df = pd.json_normalize(content)\n",
    "df.rename(columns={'assignment.isOverdue': 'overdue', 'assignment.assignmentName': 'name',\n",
    "                   'assignment.courseName': 'course', 'assignment.assignmentType': 'type',\n",
    "                   'assignment.progressState': 'progress', 'assignment.isComplete': 'complete',\n",
    "                   'assignment.assignmentUrl':'url-a', 'assignment.courseUrl': 'url-c',\n",
    "                   'assignment.dueAtTime': 'due-time', 'assignment.grade': 'grade', 'assignment.gradingWeight': 'weight', 'assignment.gradedAtTime': 'graded-time', 'event.eventTitle': 'event-title', 'event.courseName': 'event-name', 'event.eventUrl': 'url-e', 'event.courseUrl': 'url-c-e', 'event.startTime': 'event-start', 'event.endTime': 'event-end'}, inplace=True)\n",
    "# df.columns"
   ]
  },
  {
   "cell_type": "markdown",
   "metadata": {},
   "source": [
    "extract needed columns"
   ]
  },
  {
   "cell_type": "code",
   "execution_count": 4,
   "metadata": {},
   "outputs": [
    {
     "data": {
      "text/html": [
       "<div>\n",
       "<style scoped>\n",
       "    .dataframe tbody tr th:only-of-type {\n",
       "        vertical-align: middle;\n",
       "    }\n",
       "\n",
       "    .dataframe tbody tr th {\n",
       "        vertical-align: top;\n",
       "    }\n",
       "\n",
       "    .dataframe thead th {\n",
       "        text-align: right;\n",
       "    }\n",
       "</style>\n",
       "<table border=\"1\" class=\"dataframe\">\n",
       "  <thead>\n",
       "    <tr style=\"text-align: right;\">\n",
       "      <th></th>\n",
       "      <th>name</th>\n",
       "      <th>grade</th>\n",
       "      <th>weight</th>\n",
       "      <th>graded-time</th>\n",
       "    </tr>\n",
       "  </thead>\n",
       "  <tbody>\n",
       "    <tr>\n",
       "      <th>0</th>\n",
       "      <td>1.304 Multiple files</td>\n",
       "      <td>1.0</td>\n",
       "      <td>0.0</td>\n",
       "      <td>2021-04-20T01:03:54.607Z</td>\n",
       "    </tr>\n",
       "    <tr>\n",
       "      <th>1</th>\n",
       "      <td>2.209 P5.dom</td>\n",
       "      <td>1.0</td>\n",
       "      <td>0.0</td>\n",
       "      <td>2021-04-26T12:04:49.617Z</td>\n",
       "    </tr>\n",
       "    <tr>\n",
       "      <th>2</th>\n",
       "      <td>2.301 Case study 1</td>\n",
       "      <td>NaN</td>\n",
       "      <td>0.0</td>\n",
       "      <td>NaN</td>\n",
       "    </tr>\n",
       "    <tr>\n",
       "      <th>3</th>\n",
       "      <td>3.301 Case study 2</td>\n",
       "      <td>NaN</td>\n",
       "      <td>0.0</td>\n",
       "      <td>NaN</td>\n",
       "    </tr>\n",
       "    <tr>\n",
       "      <th>4</th>\n",
       "      <td>4.301 Case study 3</td>\n",
       "      <td>NaN</td>\n",
       "      <td>0.0</td>\n",
       "      <td>NaN</td>\n",
       "    </tr>\n",
       "  </tbody>\n",
       "</table>\n",
       "</div>"
      ],
      "text/plain": [
       "                   name  grade  weight               graded-time\n",
       "0  1.304 Multiple files    1.0     0.0  2021-04-20T01:03:54.607Z\n",
       "1          2.209 P5.dom    1.0     0.0  2021-04-26T12:04:49.617Z\n",
       "2    2.301 Case study 1    NaN     0.0                       NaN\n",
       "3    3.301 Case study 2    NaN     0.0                       NaN\n",
       "4    4.301 Case study 3    NaN     0.0                       NaN"
      ]
     },
     "execution_count": 4,
     "metadata": {},
     "output_type": "execute_result"
    }
   ],
   "source": [
    "df = df[['name', 'grade', 'weight', 'graded-time']]\n",
    "df.head()"
   ]
  },
  {
   "cell_type": "markdown",
   "metadata": {},
   "source": [
    "different ways to view"
   ]
  },
  {
   "cell_type": "code",
   "execution_count": 5,
   "metadata": {},
   "outputs": [
    {
     "data": {
      "text/plain": [
       "30   NaN\n",
       "Name: grade, dtype: float64"
      ]
     },
     "execution_count": 5,
     "metadata": {},
     "output_type": "execute_result"
    }
   ],
   "source": [
    "# change name to your assignment name to view grade\n",
    "df[df.name=='Sudoku assignment [001]'].grade"
   ]
  },
  {
   "cell_type": "code",
   "execution_count": 6,
   "metadata": {},
   "outputs": [],
   "source": [
    "W = '\\033[0m';R = '\\033[31m';G = '\\033[32m';Y = '\\033[33m';B = '\\033[34m';P = '\\033[35m'"
   ]
  },
  {
   "cell_type": "markdown",
   "metadata": {},
   "source": [
    "Extract by index (because I know the index by heart now)"
   ]
  },
  {
   "cell_type": "code",
   "execution_count": 7,
   "metadata": {},
   "outputs": [
    {
     "data": {
      "text/html": [
       "<div>\n",
       "<style scoped>\n",
       "    .dataframe tbody tr th:only-of-type {\n",
       "        vertical-align: middle;\n",
       "    }\n",
       "\n",
       "    .dataframe tbody tr th {\n",
       "        vertical-align: top;\n",
       "    }\n",
       "\n",
       "    .dataframe thead th {\n",
       "        text-align: right;\n",
       "    }\n",
       "</style>\n",
       "<table border=\"1\" class=\"dataframe\">\n",
       "  <thead>\n",
       "    <tr style=\"text-align: right;\">\n",
       "      <th></th>\n",
       "      <th>name</th>\n",
       "      <th>grade</th>\n",
       "      <th>weight</th>\n",
       "      <th>graded-time</th>\n",
       "    </tr>\n",
       "  </thead>\n",
       "  <tbody>\n",
       "    <tr>\n",
       "      <th>30</th>\n",
       "      <td>Sudoku assignment [001]</td>\n",
       "      <td>NaN</td>\n",
       "      <td>0.40000</td>\n",
       "      <td>NaN</td>\n",
       "    </tr>\n",
       "    <tr>\n",
       "      <th>31</th>\n",
       "      <td>Mid-term programming assignment [001]</td>\n",
       "      <td>NaN</td>\n",
       "      <td>0.50000</td>\n",
       "      <td>NaN</td>\n",
       "    </tr>\n",
       "    <tr>\n",
       "      <th>32</th>\n",
       "      <td>Coursework 1.2 Submission of the individual re...</td>\n",
       "      <td>NaN</td>\n",
       "      <td>0.09999</td>\n",
       "      <td>NaN</td>\n",
       "    </tr>\n",
       "    <tr>\n",
       "      <th>33</th>\n",
       "      <td>Coursework 1.1 A single bundled team assignmen...</td>\n",
       "      <td>NaN</td>\n",
       "      <td>0.20001</td>\n",
       "      <td>NaN</td>\n",
       "    </tr>\n",
       "  </tbody>\n",
       "</table>\n",
       "</div>"
      ],
      "text/plain": [
       "                                                 name  grade   weight  \\\n",
       "30                            Sudoku assignment [001]    NaN  0.40000   \n",
       "31              Mid-term programming assignment [001]    NaN  0.50000   \n",
       "32  Coursework 1.2 Submission of the individual re...    NaN  0.09999   \n",
       "33  Coursework 1.1 A single bundled team assignmen...    NaN  0.20001   \n",
       "\n",
       "   graded-time  \n",
       "30         NaN  \n",
       "31         NaN  \n",
       "32         NaN  \n",
       "33         NaN  "
      ]
     },
     "execution_count": 7,
     "metadata": {},
     "output_type": "execute_result"
    }
   ],
   "source": [
    "# change index to your assignment indices to view\n",
    "df.iloc[[30, 31, 32, 33]]\n"
   ]
  },
  {
   "cell_type": "code",
   "execution_count": 8,
   "metadata": {},
   "outputs": [],
   "source": [
    "from lxml import html"
   ]
  },
  {
   "cell_type": "code",
   "execution_count": 9,
   "metadata": {},
   "outputs": [],
   "source": [
    "session_requests = requests.session()"
   ]
  },
  {
   "cell_type": "code",
   "execution_count": 10,
   "metadata": {},
   "outputs": [
    {
     "name": "stdout",
     "output_type": "stream",
     "text": [
      "<Response [200]>\n",
      "<Element html at 0x19bb5e96950>\n",
      "<Response [200]>\n"
     ]
    }
   ],
   "source": [
    "url = \"https://www.coursera.org/degrees/bachelor-of-science-computer-science-london?authMode=login\"\n",
    "\n",
    "payload = {\n",
    "    \"email\": \"explorationyear2020@gmail.com\",\n",
    "    \"password\": \"Whatdreamlife@20\"\n",
    "}\n",
    "result = session_requests.get(url)\n",
    "print(result)\n",
    "tree = html.fromstring(result.text)\n",
    "print(tree)\n",
    "result = session_requests.post(\n",
    "\turl,\n",
    "\tdata=payload,\n",
    "\theaders=dict(referer=url)\n",
    ")\n",
    "print(result)\n"
   ]
  },
  {
   "cell_type": "code",
   "execution_count": 11,
   "metadata": {},
   "outputs": [
    {
     "name": "stdout",
     "output_type": "stream",
     "text": [
      "[]\n"
     ]
    }
   ],
   "source": [
    "url = 'https://www.coursera.org/degrees/bachelor-of-science-computer-science-london/home/'\n",
    "result = session_requests.get(\n",
    "\turl,\n",
    "\theaders=dict(referer=url)\n",
    ")\n",
    "tree = html.fromstring(result.content)\n",
    "bucket_names = tree.xpath(\"//div[@class='repo-list--repo']/a/text()\")\n",
    "\n",
    "print(bucket_names)\n"
   ]
  },
  {
   "cell_type": "code",
   "execution_count": 12,
   "metadata": {},
   "outputs": [
    {
     "name": "stdout",
     "output_type": "stream",
     "text": [
      "<!DOCTYPE HTML PUBLIC \"-//W3C//DTD HTML 4.01 Transitional//EN\" \"http://www.w3.org/TR/html4/loose.dtd\">\n",
      "<html>\n",
      " <head>\n",
      "  <meta content=\"text/html; charset=utf-8\" http-equiv=\"Content-Type\"/>\n",
      "  <title>\n",
      "   ERROR: The request could not be satisfied\n",
      "  </title>\n",
      " </head>\n",
      " <body>\n",
      "  <h1>\n",
      "   403 ERROR\n",
      "  </h1>\n",
      "  <h2>\n",
      "   The request could not be satisfied.\n",
      "  </h2>\n",
      "  <hr noshade=\"\" size=\"1px\"/>\n",
      "  Bad request.\n",
      "We can't connect to the server for this app or website at this time. There might be too much traffic or a configuration error. Try again later, or contact the app or website owner.\n",
      "  <br clear=\"all\"/>\n",
      "  If you provide content to customers through CloudFront, you can find steps to troubleshoot and help prevent this error by reviewing the CloudFront documentation.\n",
      "  <br clear=\"all\"/>\n",
      "  <hr noshade=\"\" size=\"1px\"/>\n",
      "  <pre>\n",
      "Generated by cloudfront (CloudFront)\n",
      "Request ID: 7dOWCTnsVxkWZXe0JJs-qblw-9e_o-fR7m5HmnUvq3odIVl225giEg==\n",
      "</pre>\n",
      "  <address>\n",
      "  </address>\n",
      " </body>\n",
      "</html>\n",
      "0\n"
     ]
    }
   ],
   "source": [
    "url = \"https://www.coursera.org/degrees/bachelor-of-science-computer-science-london?authMode=login\"\n",
    "\n",
    "headers = {\n",
    "    'Cookie': 'CSRF3-Token=1644769476.b3kdU4RyPbXi3qjX; __204u=5578105866-1643905476340'\n",
    "}\n",
    "\n",
    "response = requests.get(url, headers=headers, data=payload)\n",
    "soup = BeautifulSoup(response.content, 'html.parser')\n",
    "print(soup.prettify())\n",
    "\n",
    "alist = soup.findAll('a', {})\n",
    "print(len(alist))\n",
    "# for i in alist:\n",
    "#     try:\n",
    "#         print(i.text, i['href'])\n",
    "#     except:\n",
    "#         print(i.text, 'no href found')\n"
   ]
  },
  {
   "cell_type": "code",
   "execution_count": 13,
   "metadata": {},
   "outputs": [],
   "source": [
    "import webbrowser\n",
    "from selenium import webdriver\n",
    "from selenium.webdriver.common.by import By\n",
    "from selenium.webdriver.support.ui import WebDriverWait\n",
    "from selenium.webdriver.support import expected_conditions as EC\n",
    "from selenium.webdriver.common.desired_capabilities import DesiredCapabilities\n",
    "from selenium.webdriver.chrome.options import Options\n"
   ]
  },
  {
   "cell_type": "code",
   "execution_count": 14,
   "metadata": {},
   "outputs": [],
   "source": [
    "chrome_path = r\"C:\\\\Program Files\\\\Google\\\\Chrome\\\\Application\\\\chrome.exe\"\n",
    "# webbrowser.register('chrome', None, webbrowser.BackgroundBrowser(chrome_path))\n",
    "# webbrowser.get('chrome').open(url)"
   ]
  },
  {
   "cell_type": "code",
   "execution_count": 15,
   "metadata": {},
   "outputs": [
    {
     "name": "stdout",
     "output_type": "stream",
     "text": [
      "https://www.coursera.org/degrees/bachelor-of-science-computer-science-london?authMode=login\n",
      "166\n",
      "\n",
      "Online Degrees\n",
      "Find your New Career\n",
      "For Enterprise\n",
      "For Students\n",
      "Browse\n",
      "Top Courses\n",
      "Log In\n",
      "Join for Free\n",
      "\n",
      "Register now\n",
      "<Bachelors Degrees\n",
      "Overview\n",
      "Admissions\n",
      "Programme\n",
      "Tuition & Financing\n",
      "Student Experience\n",
      "Careers\n",
      "About the University\n",
      "Learn about your payment options\n",
      "Student Enquiry System\n",
      "Prospectus\n",
      "Programme Specification\n",
      "Learn more about performance-based admission\n",
      "Learn more about admissions\n",
      "Learn more about the programme\n",
      "Learn more about careers\n",
      "Learn more about student experience\n",
      "Learn more about University of London\n",
      " Sample a course\n",
      "Register now\n",
      "here\n",
      "Introduction to Computer Programming\n",
      "How Computers Work\n",
      "Mathematics for Computer Science\n",
      "Student Enquiry System available on their website\n",
      "Recognition of Prior Learning (RPL)\n",
      "How Computers Work\n",
      "Introduction to Computer Programming\n",
      "Mathematics for Computer Science\n",
      "here\n",
      "here\n",
      "my.london.ac.uk/student-card\n",
      "Google IT Support Professional Certificate\n",
      "online application form\n",
      "Student Enquiry System\n",
      "recognition of prior learning\n",
      "Google Data Analyst\n",
      "Google Project Management\n",
      "Google UX Design\n",
      "Google IT Support\n",
      "IBM Data Science\n",
      "IBM Data Analyst\n",
      "IBM Data Analytics with Excel and R\n",
      "IBM Cybersecurity Analyst\n",
      "IBM Data Engineering\n",
      "IBM Full Stack Cloud Developer\n",
      "Facebook Social Media Marketing\n",
      "Facebook Marketing Analytics\n",
      "Salesforce Sales Development Representative\n",
      "Salesforce Sales Operations\n",
      "Intuit Bookkeeping\n",
      "Preparing for Google Cloud Certification: Cloud Architect\n",
      "Preparing for Google Cloud Certification: Cloud Data Engineer\n",
      "Launch your career\n",
      "Prepare for a certification\n",
      "Advance your career\n",
      "Free Courses\n",
      "Learn a Language\n",
      "Python\n",
      "Java\n",
      "Web Design\n",
      "SQL\n",
      "Cursos Gratis\n",
      "Microsoft Excel\n",
      "Project Management\n",
      "Cybersecurity\n",
      "Human Resources\n",
      "Data Science Free Courses\n",
      "Speaking English\n",
      "Content Writing\n",
      "Full Stack Web Development\n",
      "Artificial Intelligence\n",
      "C Programming\n",
      "Communication Skills\n",
      "Blockchain\n",
      "See all courses\n",
      "Skills for Data Science Teams\n",
      "Data Driven Decision Making\n",
      "Software Engineering Skills\n",
      "Soft Skills for Engineering Teams\n",
      "Management Skills\n",
      "Marketing Skills\n",
      "Skills for Sales Teams\n",
      "Product Manager Skills\n",
      "Skills for Finance\n",
      "Popular Data Science Courses in the UK\n",
      "Beliebte Technologiekurse in Deutschland\n",
      "Popular Cybersecurity Certifications\n",
      "Popular IT Certifications\n",
      "Popular SQL Certifications\n",
      "Marketing Manager Career Guide\n",
      "Project Manager Career Guide\n",
      "Python Programming Skills\n",
      "Web Developer Career Guide\n",
      "Data Analyst Skills\n",
      "Skills for UX Designers\n",
      "MasterTrack® Certificates\n",
      "Professional Certificates\n",
      "University Certificates\n",
      "MBA & Business Degrees\n",
      "Data Science Degrees\n",
      "Computer Science Degrees\n",
      "Data Analytics Degrees\n",
      "Public Health Degrees\n",
      "Social Sciences Degrees\n",
      "Management Degrees\n",
      "Degrees from Top European Universities\n",
      "Master's Degrees\n",
      "Bachelor's Degrees\n",
      "Degrees with a Performance Pathway\n",
      "Bsc Courses\n",
      "What is a Bachelor's Degree?\n",
      "How Long Does a Master's Degree Take?\n",
      "Is an Online MBA Worth It?\n",
      "7 Ways to Pay for Graduate School\n",
      "See all certificates\n",
      "About\n",
      "What We Offer\n",
      "Leadership\n",
      "Careers\n",
      "Catalog\n",
      "Coursera Plus\n",
      "Professional Certificates\n",
      "MasterTrack® Certificates\n",
      "Degrees\n",
      "For Enterprise\n",
      "For Government\n",
      "For Campus\n",
      "Become a Partner\n",
      "Coronavirus Response\n",
      "Learners\n",
      "Partners\n",
      "Developers\n",
      "Beta Testers\n",
      "Translators\n",
      "Blog\n",
      "Tech Blog\n",
      "Teaching Center\n",
      "Press\n",
      "Investors\n",
      "Terms\n",
      "Privacy\n",
      "Help\n",
      "Accessibility\n",
      "Contact\n",
      "Articles\n",
      "Directory\n",
      "Affiliates\n",
      "\n",
      "\n",
      "\n",
      "\n",
      "\n",
      "\n",
      "\n"
     ]
    }
   ],
   "source": [
    "import requests\n",
    "from requests.auth import HTTPBasicAuth\n",
    "from bs4 import BeautifulSoup\n",
    "url = \"https://www.coursera.org/degrees/bachelor-of-science-computer-science-london?authMode=login\"\n",
    "\n",
    "response = requests.get(url,\n",
    "             auth=HTTPBasicAuth('explorationyear2020@gmail.com', 'Whatdreamlife@20'))\n",
    "print(response.url)\n",
    "# url = 'https://www.coursera.org/degrees/bachelor-of-science-computer-science-london/home/'\n",
    "# response = requests.get(url, auth=HTTPBasicAuth(\n",
    "#     'explorationyear2020@gmail.com', 'Whatdreamlife@20'))\n",
    "soup = BeautifulSoup(response.content, 'html.parser')\n",
    "# print(soup.prettify())\n",
    "\n",
    "alist = soup.find_all('a')\n",
    "print(len(alist))\n",
    "for i in alist:\n",
    "    print(i.text)\n"
   ]
  },
  {
   "cell_type": "code",
   "execution_count": 19,
   "metadata": {},
   "outputs": [
    {
     "name": "stderr",
     "output_type": "stream",
     "text": [
      "<ipython-input-19-b77ca149e574>:4: DeprecationWarning: executable_path has been deprecated, please pass in a Service object\n",
      "  driver = webdriver.Chrome(\n",
      "<ipython-input-19-b77ca149e574>:9: DeprecationWarning: find_element_by_* commands are deprecated. Please use find_element() instead\n",
      "  driver.find_element_by_id(\"email\").send_keys(\"explorationyear2020@gmail.com\")\n",
      "<ipython-input-19-b77ca149e574>:10: DeprecationWarning: find_element_by_* commands are deprecated. Please use find_element() instead\n",
      "  driver.find_element_by_id(\"password\").send_keys(\"Whatdreamlife@20\")\n",
      "<ipython-input-19-b77ca149e574>:11: DeprecationWarning: find_element_by_* commands are deprecated. Please use find_element() instead\n",
      "  driver.find_element_by_xpath(\"//button[@type='submit']\").click()\n",
      "<ipython-input-19-b77ca149e574>:23: DeprecationWarning: find_element_by_* commands are deprecated. Please use find_element() instead\n",
      "  driver.find_element_by_xpath('//*[@id=\"home-tabpanel\"]/main/div/div/div/div/button[1]').click()\n"
     ]
    },
    {
     "ename": "WebDriverException",
     "evalue": "Message: chrome not reachable\n  (Session info: chrome=98.0.4758.82)\nStacktrace:\nBacktrace:\n\tOrdinal0 [0x00617AC3+2587331]\n\tOrdinal0 [0x005AADD1+2141649]\n\tOrdinal0 [0x004A3A80+1063552]\n\tOrdinal0 [0x00498222+1016354]\n\tOrdinal0 [0x00498A58+1018456]\n\tOrdinal0 [0x0049A292+1024658]\n\tOrdinal0 [0x00493F79+999289]\n\tOrdinal0 [0x004A4EF0+1068784]\n\tOrdinal0 [0x004F81D2+1409490]\n\tOrdinal0 [0x004E84A6+1344678]\n\tOrdinal0 [0x004C53F6+1201142]\n\tOrdinal0 [0x004C62E6+1204966]\n\tGetHandleVerifier [0x007BDF22+1680738]\n\tGetHandleVerifier [0x00870DBC+2413564]\n\tGetHandleVerifier [0x006AD151+563089]\n\tGetHandleVerifier [0x006ABF13+558419]\n\tOrdinal0 [0x005B081E+2164766]\n\tOrdinal0 [0x005B5508+2184456]\n\tOrdinal0 [0x005B5650+2184784]\n\tOrdinal0 [0x005BF5BC+2225596]\n\tBaseThreadInitThunk [0x76696739+25]\n\tRtlGetFullPathName_UEx [0x777C8E7F+1215]\n\tRtlGetFullPathName_UEx [0x777C8E4D+1165]\n",
     "output_type": "error",
     "traceback": [
      "\u001b[1;31m---------------------------------------------------------------------------\u001b[0m",
      "\u001b[1;31mWebDriverException\u001b[0m                        Traceback (most recent call last)",
      "\u001b[1;32m<ipython-input-19-b77ca149e574>\u001b[0m in \u001b[0;36m<module>\u001b[1;34m\u001b[0m\n\u001b[0;32m     21\u001b[0m \u001b[1;33m\u001b[0m\u001b[0m\n\u001b[0;32m     22\u001b[0m \u001b[0mtime\u001b[0m\u001b[1;33m.\u001b[0m\u001b[0msleep\u001b[0m\u001b[1;33m(\u001b[0m\u001b[1;36m5\u001b[0m\u001b[1;33m)\u001b[0m\u001b[1;33m\u001b[0m\u001b[1;33m\u001b[0m\u001b[0m\n\u001b[1;32m---> 23\u001b[1;33m \u001b[0mdriver\u001b[0m\u001b[1;33m.\u001b[0m\u001b[0mfind_element_by_xpath\u001b[0m\u001b[1;33m(\u001b[0m\u001b[1;34m'//*[@id=\"home-tabpanel\"]/main/div/div/div/div/button[1]'\u001b[0m\u001b[1;33m)\u001b[0m\u001b[1;33m.\u001b[0m\u001b[0mclick\u001b[0m\u001b[1;33m(\u001b[0m\u001b[1;33m)\u001b[0m\u001b[1;33m\u001b[0m\u001b[1;33m\u001b[0m\u001b[0m\n\u001b[0m\u001b[0;32m     24\u001b[0m \u001b[0mdriver\u001b[0m\u001b[1;33m.\u001b[0m\u001b[0mfind_element_by_xpath\u001b[0m\u001b[1;33m(\u001b[0m\u001b[1;34m'//*[@id=\"home-tabpanel\"]/main/div/div/div/div/button[1]'\u001b[0m\u001b[1;33m)\u001b[0m\u001b[1;33m.\u001b[0m\u001b[0mclick\u001b[0m\u001b[1;33m(\u001b[0m\u001b[1;33m)\u001b[0m\u001b[1;33m\u001b[0m\u001b[1;33m\u001b[0m\u001b[0m\n\u001b[0;32m     25\u001b[0m \u001b[1;33m\u001b[0m\u001b[0m\n",
      "\u001b[1;32m~\\anaconda3\\lib\\site-packages\\selenium\\webdriver\\remote\\webdriver.py\u001b[0m in \u001b[0;36mfind_element_by_xpath\u001b[1;34m(self, xpath)\u001b[0m\n\u001b[0;32m    518\u001b[0m             \u001b[0mstacklevel\u001b[0m\u001b[1;33m=\u001b[0m\u001b[1;36m2\u001b[0m\u001b[1;33m,\u001b[0m\u001b[1;33m\u001b[0m\u001b[1;33m\u001b[0m\u001b[0m\n\u001b[0;32m    519\u001b[0m         )\n\u001b[1;32m--> 520\u001b[1;33m         \u001b[1;32mreturn\u001b[0m \u001b[0mself\u001b[0m\u001b[1;33m.\u001b[0m\u001b[0mfind_element\u001b[0m\u001b[1;33m(\u001b[0m\u001b[0mby\u001b[0m\u001b[1;33m=\u001b[0m\u001b[0mBy\u001b[0m\u001b[1;33m.\u001b[0m\u001b[0mXPATH\u001b[0m\u001b[1;33m,\u001b[0m \u001b[0mvalue\u001b[0m\u001b[1;33m=\u001b[0m\u001b[0mxpath\u001b[0m\u001b[1;33m)\u001b[0m\u001b[1;33m\u001b[0m\u001b[1;33m\u001b[0m\u001b[0m\n\u001b[0m\u001b[0;32m    521\u001b[0m \u001b[1;33m\u001b[0m\u001b[0m\n\u001b[0;32m    522\u001b[0m     \u001b[1;32mdef\u001b[0m \u001b[0mfind_elements_by_xpath\u001b[0m\u001b[1;33m(\u001b[0m\u001b[0mself\u001b[0m\u001b[1;33m,\u001b[0m \u001b[0mxpath\u001b[0m\u001b[1;33m)\u001b[0m \u001b[1;33m->\u001b[0m \u001b[0mWebElement\u001b[0m\u001b[1;33m:\u001b[0m\u001b[1;33m\u001b[0m\u001b[1;33m\u001b[0m\u001b[0m\n",
      "\u001b[1;32m~\\anaconda3\\lib\\site-packages\\selenium\\webdriver\\remote\\webdriver.py\u001b[0m in \u001b[0;36mfind_element\u001b[1;34m(self, by, value)\u001b[0m\n\u001b[0;32m   1242\u001b[0m             \u001b[0mvalue\u001b[0m \u001b[1;33m=\u001b[0m \u001b[1;34m'[name=\"%s\"]'\u001b[0m \u001b[1;33m%\u001b[0m \u001b[0mvalue\u001b[0m\u001b[1;33m\u001b[0m\u001b[1;33m\u001b[0m\u001b[0m\n\u001b[0;32m   1243\u001b[0m \u001b[1;33m\u001b[0m\u001b[0m\n\u001b[1;32m-> 1244\u001b[1;33m         return self.execute(Command.FIND_ELEMENT, {\n\u001b[0m\u001b[0;32m   1245\u001b[0m             \u001b[1;34m'using'\u001b[0m\u001b[1;33m:\u001b[0m \u001b[0mby\u001b[0m\u001b[1;33m,\u001b[0m\u001b[1;33m\u001b[0m\u001b[1;33m\u001b[0m\u001b[0m\n\u001b[0;32m   1246\u001b[0m             'value': value})['value']\n",
      "\u001b[1;32m~\\anaconda3\\lib\\site-packages\\selenium\\webdriver\\remote\\webdriver.py\u001b[0m in \u001b[0;36mexecute\u001b[1;34m(self, driver_command, params)\u001b[0m\n\u001b[0;32m    422\u001b[0m         \u001b[0mresponse\u001b[0m \u001b[1;33m=\u001b[0m \u001b[0mself\u001b[0m\u001b[1;33m.\u001b[0m\u001b[0mcommand_executor\u001b[0m\u001b[1;33m.\u001b[0m\u001b[0mexecute\u001b[0m\u001b[1;33m(\u001b[0m\u001b[0mdriver_command\u001b[0m\u001b[1;33m,\u001b[0m \u001b[0mparams\u001b[0m\u001b[1;33m)\u001b[0m\u001b[1;33m\u001b[0m\u001b[1;33m\u001b[0m\u001b[0m\n\u001b[0;32m    423\u001b[0m         \u001b[1;32mif\u001b[0m \u001b[0mresponse\u001b[0m\u001b[1;33m:\u001b[0m\u001b[1;33m\u001b[0m\u001b[1;33m\u001b[0m\u001b[0m\n\u001b[1;32m--> 424\u001b[1;33m             \u001b[0mself\u001b[0m\u001b[1;33m.\u001b[0m\u001b[0merror_handler\u001b[0m\u001b[1;33m.\u001b[0m\u001b[0mcheck_response\u001b[0m\u001b[1;33m(\u001b[0m\u001b[0mresponse\u001b[0m\u001b[1;33m)\u001b[0m\u001b[1;33m\u001b[0m\u001b[1;33m\u001b[0m\u001b[0m\n\u001b[0m\u001b[0;32m    425\u001b[0m             response['value'] = self._unwrap_value(\n\u001b[0;32m    426\u001b[0m                 response.get('value', None))\n",
      "\u001b[1;32m~\\anaconda3\\lib\\site-packages\\selenium\\webdriver\\remote\\errorhandler.py\u001b[0m in \u001b[0;36mcheck_response\u001b[1;34m(self, response)\u001b[0m\n\u001b[0;32m    245\u001b[0m                 \u001b[0malert_text\u001b[0m \u001b[1;33m=\u001b[0m \u001b[0mvalue\u001b[0m\u001b[1;33m[\u001b[0m\u001b[1;34m'alert'\u001b[0m\u001b[1;33m]\u001b[0m\u001b[1;33m.\u001b[0m\u001b[0mget\u001b[0m\u001b[1;33m(\u001b[0m\u001b[1;34m'text'\u001b[0m\u001b[1;33m)\u001b[0m\u001b[1;33m\u001b[0m\u001b[1;33m\u001b[0m\u001b[0m\n\u001b[0;32m    246\u001b[0m             \u001b[1;32mraise\u001b[0m \u001b[0mexception_class\u001b[0m\u001b[1;33m(\u001b[0m\u001b[0mmessage\u001b[0m\u001b[1;33m,\u001b[0m \u001b[0mscreen\u001b[0m\u001b[1;33m,\u001b[0m \u001b[0mstacktrace\u001b[0m\u001b[1;33m,\u001b[0m \u001b[0malert_text\u001b[0m\u001b[1;33m)\u001b[0m  \u001b[1;31m# type: ignore[call-arg]  # mypy is not smart enough here\u001b[0m\u001b[1;33m\u001b[0m\u001b[1;33m\u001b[0m\u001b[0m\n\u001b[1;32m--> 247\u001b[1;33m         \u001b[1;32mraise\u001b[0m \u001b[0mexception_class\u001b[0m\u001b[1;33m(\u001b[0m\u001b[0mmessage\u001b[0m\u001b[1;33m,\u001b[0m \u001b[0mscreen\u001b[0m\u001b[1;33m,\u001b[0m \u001b[0mstacktrace\u001b[0m\u001b[1;33m)\u001b[0m\u001b[1;33m\u001b[0m\u001b[1;33m\u001b[0m\u001b[0m\n\u001b[0m\u001b[0;32m    248\u001b[0m \u001b[1;33m\u001b[0m\u001b[0m\n\u001b[0;32m    249\u001b[0m     \u001b[1;32mdef\u001b[0m \u001b[0m_value_or_default\u001b[0m\u001b[1;33m(\u001b[0m\u001b[0mself\u001b[0m\u001b[1;33m,\u001b[0m \u001b[0mobj\u001b[0m\u001b[1;33m:\u001b[0m \u001b[0mMapping\u001b[0m\u001b[1;33m[\u001b[0m\u001b[0m_KT\u001b[0m\u001b[1;33m,\u001b[0m \u001b[0m_VT\u001b[0m\u001b[1;33m]\u001b[0m\u001b[1;33m,\u001b[0m \u001b[0mkey\u001b[0m\u001b[1;33m:\u001b[0m \u001b[0m_KT\u001b[0m\u001b[1;33m,\u001b[0m \u001b[0mdefault\u001b[0m\u001b[1;33m:\u001b[0m \u001b[0m_VT\u001b[0m\u001b[1;33m)\u001b[0m \u001b[1;33m->\u001b[0m \u001b[0m_VT\u001b[0m\u001b[1;33m:\u001b[0m\u001b[1;33m\u001b[0m\u001b[1;33m\u001b[0m\u001b[0m\n",
      "\u001b[1;31mWebDriverException\u001b[0m: Message: chrome not reachable\n  (Session info: chrome=98.0.4758.82)\nStacktrace:\nBacktrace:\n\tOrdinal0 [0x00617AC3+2587331]\n\tOrdinal0 [0x005AADD1+2141649]\n\tOrdinal0 [0x004A3A80+1063552]\n\tOrdinal0 [0x00498222+1016354]\n\tOrdinal0 [0x00498A58+1018456]\n\tOrdinal0 [0x0049A292+1024658]\n\tOrdinal0 [0x00493F79+999289]\n\tOrdinal0 [0x004A4EF0+1068784]\n\tOrdinal0 [0x004F81D2+1409490]\n\tOrdinal0 [0x004E84A6+1344678]\n\tOrdinal0 [0x004C53F6+1201142]\n\tOrdinal0 [0x004C62E6+1204966]\n\tGetHandleVerifier [0x007BDF22+1680738]\n\tGetHandleVerifier [0x00870DBC+2413564]\n\tGetHandleVerifier [0x006AD151+563089]\n\tGetHandleVerifier [0x006ABF13+558419]\n\tOrdinal0 [0x005B081E+2164766]\n\tOrdinal0 [0x005B5508+2184456]\n\tOrdinal0 [0x005B5650+2184784]\n\tOrdinal0 [0x005BF5BC+2225596]\n\tBaseThreadInitThunk [0x76696739+25]\n\tRtlGetFullPathName_UEx [0x777C8E7F+1215]\n\tRtlGetFullPathName_UEx [0x777C8E4D+1165]\n"
     ]
    }
   ],
   "source": [
    "url = \"https://www.coursera.org/degrees/bachelor-of-science-computer-science-london?authMode=login\"\n",
    "import time\n",
    "\n",
    "driver = webdriver.Chrome(\n",
    "    executable_path=r\"C:\\\\Users\\\\hanna\\\\Downloads\\\\chromedriver.exe\")\n",
    "driver.get(url)\n",
    "# print(driver.current_url)\n",
    "\n",
    "driver.find_element_by_id(\"email\").send_keys(\"explorationyear2020@gmail.com\")\n",
    "driver.find_element_by_id(\"password\").send_keys(\"Whatdreamlife@20\")\n",
    "driver.find_element_by_xpath(\"//button[@type='submit']\").click()\n",
    "\n",
    "# WebDriverWait(driver, 10)\n",
    "time.sleep(10)\n",
    "# driver.find_element_by_xpath(\"//div.branding-image\").click()\n",
    "driver.get(\"https://www.coursera.org/degrees/bachelor-of-science-computer-science-london/home\")\n",
    "# print(driver.current_url)\n",
    "\n",
    "# time.sleep(5)\n",
    "# driver.find_element_by_xpath('//*[@id=\"rendered-content\"]/div/div/div/div[2]/div[2]/div/ol/button').click()\n",
    "\n",
    "time.sleep(5)\n",
    "driver.find_element_by_xpath('//*[@id=\"home-tabpanel\"]/main/div/div/div/div/button[1]').click()\n",
    "driver.find_element_by_xpath('//*[@id=\"home-tabpanel\"]/main/div/div/div/div/button[1]').click()\n",
    "\n",
    "\n",
    "soup = BeautifulSoup(driver.page_source, 'html.parser')\n",
    "# print(soup.prettify())\n",
    "time.sleep(5)\n",
    "# alist = soup.findAll('a', {})\n",
    "# print(len(alist))\n",
    "# for i in alist:\n",
    "#     print(i.text)\n",
    "ads = driver.find_element_by_xpath('//*[@id=\"home-tabpanel\"]/main/div/ul/li[1]/a[2]')\n",
    "pwd = driver.find_element_by_xpath('//*[@id=\"home-tabpanel\"]/main/div/ul/li[2]/a[2]')\n",
    "wd2 = driver.find_element_by_xpath('//*[@id=\"home-tabpanel\"]/main/div/ul/li[5]/a[2]')\n",
    "wd1 = driver.find_element_by_xpath('//*[@id=\"home-tabpanel\"]/main/div/ul/li[5]/a[3]')\n",
    "\n",
    "# d = DesiredCapabilities.CHROME\n",
    "# d['loggingPrefs'] = {'performance': 'ALL'}\n",
    "\n",
    "# chrome_options = Options()\n",
    "# chrome_options.add_experimental_option('w3c', False)\n",
    "\n",
    "# driver = webdriver.Chrome(desired_capabilities=d, options=chrome_options)\n",
    "\n",
    "# logs = driver.get_log(\"performance\")\n",
    "# print(logs)\n",
    "# with open('network_log.json', 'w', encoding='utf-8') as file:\n",
    "#     file.write(\"[\")\n",
    "#     for log in logs:\n",
    "#         network_log = json.loads(log[\"message\"])[\"message\"]\n",
    "#         if (\"Network.response\" in network_log[\"method\"] or \"Network.request\" in network_log[\"method\"] or \"Network.webSocket\" in network_log[\"method\"]):\n",
    "#             file.write(json.dumps(network_log)+',')\n",
    "#     file.write(\"{}]\")\n",
    "# print(\"Quitting Selenium WebDriver\")\n",
    "# driver.quit()"
   ]
  },
  {
   "cell_type": "code",
   "execution_count": null,
   "metadata": {},
   "outputs": [],
   "source": [
    "print('ADS1\\n', ads.text)\n",
    "print('PwD\\n', pwd.text)\n",
    "print('WD-1\\n', wd1.text)\n",
    "print('WD-2\\n', wd2.text)\n"
   ]
  },
  {
   "cell_type": "code",
   "execution_count": null,
   "metadata": {},
   "outputs": [],
   "source": [
    "json_file_path = \"network_log.json\"\n",
    "with open(json_file_path, \"r\", encoding=\"utf-8\") as f:\n",
    "    logs = json.loads(f.read())\n",
    "\n",
    "# Iterate the logs\n",
    "for log in logs:\n",
    "\n",
    "    # Except block will be accessed if any of the\n",
    "    # following keys are missing.\n",
    "    try:\n",
    "        # URL is present inside the following keys\n",
    "        url = log[\"params\"][\"request\"][\"url\"]\n",
    "\n",
    "        # Checks if the extension is .png or .jpg\n",
    "        if url[len(url)-4:] == \".png\" or url[len(url)-4:] == \".jpg\":\n",
    "            print(url, end='\\n\\n')\n",
    "    except Exception as e:\n",
    "        pass\n"
   ]
  },
  {
   "cell_type": "code",
   "execution_count": null,
   "metadata": {},
   "outputs": [],
   "source": [
    "driver.get(\n",
    "    \"https://www.coursera.org/degrees/bachelor-of-science-computer-science-london/home\")\n",
    "driver.find_element(By.XPATH, '//button').click()\n",
    "# driver.find_element(By.XPATH, '//button[text()=\"Some text\"]')\n",
    "# new = driver.find_elements(\n",
    "#     By.XPATH, '//button[data-track-page()=\"degree_home_page\"]')\n",
    "# print(new)"
   ]
  },
  {
   "cell_type": "code",
   "execution_count": null,
   "metadata": {},
   "outputs": [],
   "source": [
    "\n",
    "import requests\n",
    "from lxml import html\n",
    "\n",
    "USERNAME = \"explorationyear2020@gmail.com\"\n",
    "PASSWORD = \"Whatdreamlife@20\"\n",
    "\n",
    "LOGIN_URL = \"https://www.coursera.org/degrees/bachelor-of-science-computer-science-london?authMode=login\"\n",
    "URL = \"https://www.coursera.org/degrees/bachelor-of-science-computer-science-london/home/\"\n",
    "\n",
    "\n",
    "def main():\n",
    "    session_requests = requests.session()\n",
    "\n",
    "    # Get login csrf token\n",
    "    result = session_requests.get(LOGIN_URL)\n",
    "    tree = html.fromstring(result.text)\n",
    "    authenticity_token = '\\u003CMISSING\\u003E' # list(set(tree.xpath(\"//input[@name='csrfmiddlewaretoken']/@value\")))[0]\n",
    "\n",
    "    # Create payload\n",
    "    payload = {\n",
    "        \"username\": USERNAME,\n",
    "        \"password\": PASSWORD,\n",
    "        # \"csrfToken\": authenticity_token\n",
    "    }\n",
    "\n",
    "    # Perform login\n",
    "    result = session_requests.post(\n",
    "        LOGIN_URL, data=payload, headers=dict(referer=LOGIN_URL))\n",
    "    print(result)\n",
    "    # Scrape url\n",
    "    result = session_requests.get(URL, headers=dict(referer=URL))\n",
    "    print(result)\n",
    "    tree = html.fromstring(result.content)\n",
    "    print(tree.text)\n",
    "    bucket_names = tree.xpath(\"//a\")\n",
    "    print(bucket_names)\n",
    "\n",
    "\n",
    "if __name__ == '__main__':\n",
    "    main()\n"
   ]
  },
  {
   "cell_type": "code",
   "execution_count": null,
   "metadata": {},
   "outputs": [],
   "source": [
    "from bs4 import BeautifulSoup\n",
    "import requests\n",
    "\n",
    "# EMAIL = \"explorationyear2020@gmail.com\"\n",
    "PASSWORD = \"Whatdreamlife@20\"\n",
    "EMAIL = 'ccy05327'\n",
    "\n",
    "# LOGIN_URL = \"https://www.coursera.org/degrees/bachelor-of-science-computer-science-london?authMode=login\"\n",
    "LOGIN_URL = 'https://github.com/login'\n",
    "# URL = \"https://www.coursera.org/degrees/bachelor-of-science-computer-science-london/home/\"\n",
    "URL = 'https://github.com/ccy05327'\n",
    "# authenticity_token = '\\u003CMISSING\\u003E'\n",
    "# Start the session\n",
    "session = requests.Session()\n",
    "# print(session)\n",
    "# Create the payload\n",
    "payload = {\n",
    "    \"email\": EMAIL,\n",
    "    \"password\": PASSWORD,\n",
    "    # \"csrfToken\": authenticity_token\n",
    "}\n",
    "\n",
    "# Post the payload to the site to log in\n",
    "s = session.post(LOGIN_URL, data=payload)\n",
    "# print(s.url)\n",
    "# Navigate to the next page and scrape the data\n",
    "s = session.get(URL)\n",
    "# print(s.url)\n",
    "soup = BeautifulSoup(s.text, 'html.parser')\n",
    "# print(len(soup.findAll('a')))\n",
    "print(soup.prettify)\n",
    "# for link in soup.findAll('a'):#.select(\"div._9m2j8am > a\"):\n",
    "    # print(link)\n",
    "    # print(\"{}\\t{}\".format(link.text, link.attrs[\"href\"]))\n"
   ]
  },
  {
   "cell_type": "code",
   "execution_count": null,
   "metadata": {},
   "outputs": [],
   "source": []
  }
 ],
 "metadata": {
  "interpreter": {
   "hash": "8944ac20941febd3898b0b9a08c0e7cafc7c4835a26d6ed6b5e365f07f1b2728"
  },
  "kernelspec": {
   "display_name": "Python 3.8.10 64-bit ('base': conda)",
   "language": "python",
   "name": "python3"
  },
  "language_info": {
   "codemirror_mode": {
    "name": "ipython",
    "version": 3
   },
   "file_extension": ".py",
   "mimetype": "text/x-python",
   "name": "python",
   "nbconvert_exporter": "python",
   "pygments_lexer": "ipython3",
   "version": "3.8.10"
  },
  "orig_nbformat": 4
 },
 "nbformat": 4,
 "nbformat_minor": 2
}
