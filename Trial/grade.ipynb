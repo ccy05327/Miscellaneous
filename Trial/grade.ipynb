{
 "cells": [
  {
   "cell_type": "markdown",
   "metadata": {},
   "source": [
    "Extract Grade from Inspector"
   ]
  },
  {
   "cell_type": "code",
   "execution_count": 10,
   "metadata": {},
   "outputs": [],
   "source": [
    "import pandas as pd\n",
    "from pandas import json_normalize\n",
    "import json\n",
    "from bs4 import BeautifulSoup\n",
    "import requests"
   ]
  },
  {
   "cell_type": "markdown",
   "metadata": {},
   "source": [
    "read json file"
   ]
  },
  {
   "cell_type": "code",
   "execution_count": 11,
   "metadata": {},
   "outputs": [],
   "source": [
    "with open('output.json', 'r') as j:\n",
    "    content = json.loads(j.read())"
   ]
  },
  {
   "cell_type": "markdown",
   "metadata": {},
   "source": [
    "change header names"
   ]
  },
  {
   "cell_type": "code",
   "execution_count": 12,
   "metadata": {},
   "outputs": [],
   "source": [
    "df = pd.json_normalize(content)\n",
    "df.rename(columns={'assignment.isOverdue': 'overdue', 'assignment.assignmentName': 'name',\n",
    "                   'assignment.courseName': 'course', 'assignment.assignmentType': 'type',\n",
    "                   'assignment.progressState': 'progress', 'assignment.isComplete': 'complete',\n",
    "                   'assignment.assignmentUrl':'url-a', 'assignment.courseUrl': 'url-c',\n",
    "                   'assignment.dueAtTime': 'due-time', 'assignment.grade': 'grade', 'assignment.gradingWeight': 'weight', 'assignment.gradedAtTime': 'graded-time', 'event.eventTitle': 'event-title', 'event.courseName': 'event-name', 'event.eventUrl': 'url-e', 'event.courseUrl': 'url-c-e', 'event.startTime': 'event-start', 'event.endTime': 'event-end'}, inplace=True)\n",
    "# df.columns"
   ]
  },
  {
   "cell_type": "markdown",
   "metadata": {},
   "source": [
    "extract needed columns"
   ]
  },
  {
   "cell_type": "code",
   "execution_count": 13,
   "metadata": {},
   "outputs": [
    {
     "data": {
      "text/html": [
       "<div>\n",
       "<style scoped>\n",
       "    .dataframe tbody tr th:only-of-type {\n",
       "        vertical-align: middle;\n",
       "    }\n",
       "\n",
       "    .dataframe tbody tr th {\n",
       "        vertical-align: top;\n",
       "    }\n",
       "\n",
       "    .dataframe thead th {\n",
       "        text-align: right;\n",
       "    }\n",
       "</style>\n",
       "<table border=\"1\" class=\"dataframe\">\n",
       "  <thead>\n",
       "    <tr style=\"text-align: right;\">\n",
       "      <th></th>\n",
       "      <th>name</th>\n",
       "      <th>grade</th>\n",
       "      <th>weight</th>\n",
       "      <th>graded-time</th>\n",
       "    </tr>\n",
       "  </thead>\n",
       "  <tbody>\n",
       "    <tr>\n",
       "      <th>0</th>\n",
       "      <td>1.304 Multiple files</td>\n",
       "      <td>1.0</td>\n",
       "      <td>0.0</td>\n",
       "      <td>2021-04-20T01:03:54.607Z</td>\n",
       "    </tr>\n",
       "    <tr>\n",
       "      <th>1</th>\n",
       "      <td>2.209 P5.dom</td>\n",
       "      <td>1.0</td>\n",
       "      <td>0.0</td>\n",
       "      <td>2021-04-26T12:04:49.617Z</td>\n",
       "    </tr>\n",
       "    <tr>\n",
       "      <th>2</th>\n",
       "      <td>2.301 Case study 1</td>\n",
       "      <td>NaN</td>\n",
       "      <td>0.0</td>\n",
       "      <td>NaN</td>\n",
       "    </tr>\n",
       "    <tr>\n",
       "      <th>3</th>\n",
       "      <td>3.301 Case study 2</td>\n",
       "      <td>NaN</td>\n",
       "      <td>0.0</td>\n",
       "      <td>NaN</td>\n",
       "    </tr>\n",
       "    <tr>\n",
       "      <th>4</th>\n",
       "      <td>4.301 Case study 3</td>\n",
       "      <td>NaN</td>\n",
       "      <td>0.0</td>\n",
       "      <td>NaN</td>\n",
       "    </tr>\n",
       "  </tbody>\n",
       "</table>\n",
       "</div>"
      ],
      "text/plain": [
       "                   name  grade  weight               graded-time\n",
       "0  1.304 Multiple files    1.0     0.0  2021-04-20T01:03:54.607Z\n",
       "1          2.209 P5.dom    1.0     0.0  2021-04-26T12:04:49.617Z\n",
       "2    2.301 Case study 1    NaN     0.0                       NaN\n",
       "3    3.301 Case study 2    NaN     0.0                       NaN\n",
       "4    4.301 Case study 3    NaN     0.0                       NaN"
      ]
     },
     "execution_count": 13,
     "metadata": {},
     "output_type": "execute_result"
    }
   ],
   "source": [
    "df = df[['name', 'grade', 'weight', 'graded-time']]\n",
    "df.head()"
   ]
  },
  {
   "cell_type": "markdown",
   "metadata": {},
   "source": [
    "different ways to view"
   ]
  },
  {
   "cell_type": "code",
   "execution_count": 14,
   "metadata": {},
   "outputs": [
    {
     "data": {
      "text/plain": [
       "30   NaN\n",
       "Name: grade, dtype: float64"
      ]
     },
     "execution_count": 14,
     "metadata": {},
     "output_type": "execute_result"
    }
   ],
   "source": [
    "# change name to your assignment name to view grade\n",
    "df[df.name=='Sudoku assignment [001]'].grade"
   ]
  },
  {
   "cell_type": "code",
   "execution_count": 15,
   "metadata": {},
   "outputs": [],
   "source": [
    "W = '\\033[0m';R = '\\033[31m';G = '\\033[32m';Y = '\\033[33m';B = '\\033[34m';P = '\\033[35m'"
   ]
  },
  {
   "cell_type": "markdown",
   "metadata": {},
   "source": [
    "Extract by index (because I know the index by heart now)"
   ]
  },
  {
   "cell_type": "code",
   "execution_count": 16,
   "metadata": {},
   "outputs": [
    {
     "data": {
      "text/html": [
       "<div>\n",
       "<style scoped>\n",
       "    .dataframe tbody tr th:only-of-type {\n",
       "        vertical-align: middle;\n",
       "    }\n",
       "\n",
       "    .dataframe tbody tr th {\n",
       "        vertical-align: top;\n",
       "    }\n",
       "\n",
       "    .dataframe thead th {\n",
       "        text-align: right;\n",
       "    }\n",
       "</style>\n",
       "<table border=\"1\" class=\"dataframe\">\n",
       "  <thead>\n",
       "    <tr style=\"text-align: right;\">\n",
       "      <th></th>\n",
       "      <th>name</th>\n",
       "      <th>grade</th>\n",
       "      <th>weight</th>\n",
       "      <th>graded-time</th>\n",
       "    </tr>\n",
       "  </thead>\n",
       "  <tbody>\n",
       "    <tr>\n",
       "      <th>30</th>\n",
       "      <td>Sudoku assignment [001]</td>\n",
       "      <td>NaN</td>\n",
       "      <td>0.40000</td>\n",
       "      <td>NaN</td>\n",
       "    </tr>\n",
       "    <tr>\n",
       "      <th>31</th>\n",
       "      <td>Mid-term programming assignment [001]</td>\n",
       "      <td>NaN</td>\n",
       "      <td>0.50000</td>\n",
       "      <td>NaN</td>\n",
       "    </tr>\n",
       "    <tr>\n",
       "      <th>32</th>\n",
       "      <td>Coursework 1.2 Submission of the individual re...</td>\n",
       "      <td>NaN</td>\n",
       "      <td>0.09999</td>\n",
       "      <td>NaN</td>\n",
       "    </tr>\n",
       "    <tr>\n",
       "      <th>33</th>\n",
       "      <td>Coursework 1.1 A single bundled team assignmen...</td>\n",
       "      <td>NaN</td>\n",
       "      <td>0.20001</td>\n",
       "      <td>NaN</td>\n",
       "    </tr>\n",
       "  </tbody>\n",
       "</table>\n",
       "</div>"
      ],
      "text/plain": [
       "                                                 name  grade   weight  \\\n",
       "30                            Sudoku assignment [001]    NaN  0.40000   \n",
       "31              Mid-term programming assignment [001]    NaN  0.50000   \n",
       "32  Coursework 1.2 Submission of the individual re...    NaN  0.09999   \n",
       "33  Coursework 1.1 A single bundled team assignmen...    NaN  0.20001   \n",
       "\n",
       "   graded-time  \n",
       "30         NaN  \n",
       "31         NaN  \n",
       "32         NaN  \n",
       "33         NaN  "
      ]
     },
     "execution_count": 16,
     "metadata": {},
     "output_type": "execute_result"
    }
   ],
   "source": [
    "# change index to your assignment indices to view\n",
    "df.iloc[[30, 31, 32, 33]]\n"
   ]
  },
  {
   "cell_type": "code",
   "execution_count": 11,
   "metadata": {},
   "outputs": [],
   "source": [
    "EMAIL = \"explorationyear2020@gmail.com\"\n",
    "PASSWORD = \"Whatdreamlife@20\""
   ]
  },
  {
   "cell_type": "code",
   "execution_count": 17,
   "metadata": {},
   "outputs": [
    {
     "name": "stderr",
     "output_type": "stream",
     "text": [
      "<ipython-input-17-5a24c18e5ab7>:8: DeprecationWarning: executable_path has been deprecated, please pass in a Service object\n",
      "  driver = webdriver.Chrome(\n",
      "<ipython-input-17-5a24c18e5ab7>:12: DeprecationWarning: find_element_by_* commands are deprecated. Please use find_element() instead\n",
      "  driver.find_element_by_id(\"email\").send_keys(\"explorationyear2020@gmail.com\")\n",
      "<ipython-input-17-5a24c18e5ab7>:13: DeprecationWarning: find_element_by_* commands are deprecated. Please use find_element() instead\n",
      "  driver.find_element_by_id(\"password\").send_keys(\"Whatdreamlife@20\")\n",
      "<ipython-input-17-5a24c18e5ab7>:14: DeprecationWarning: find_element_by_* commands are deprecated. Please use find_element() instead\n",
      "  driver.find_element_by_xpath(\"//button[@type='submit']\").click()\n",
      "<ipython-input-17-5a24c18e5ab7>:21: DeprecationWarning: find_element_by_* commands are deprecated. Please use find_element() instead\n",
      "  driver.find_element_by_xpath('//*[@id=\"home-tabpanel\"]/main/div/div/div/div/button[1]').click()\n",
      "<ipython-input-17-5a24c18e5ab7>:22: DeprecationWarning: find_element_by_* commands are deprecated. Please use find_element() instead\n",
      "  driver.find_element_by_xpath('//*[@id=\"home-tabpanel\"]/main/div/div/div/div/button[1]').click()\n",
      "<ipython-input-17-5a24c18e5ab7>:25: DeprecationWarning: find_element_by_* commands are deprecated. Please use find_element() instead\n",
      "  ads = driver.find_element_by_xpath('//*[@id=\"home-tabpanel\"]/main/div/ul/li[1]/a[2]')\n",
      "<ipython-input-17-5a24c18e5ab7>:26: DeprecationWarning: find_element_by_* commands are deprecated. Please use find_element() instead\n",
      "  pwd = driver.find_element_by_xpath('//*[@id=\"home-tabpanel\"]/main/div/ul/li[2]/a[2]')\n",
      "<ipython-input-17-5a24c18e5ab7>:27: DeprecationWarning: find_element_by_* commands are deprecated. Please use find_element() instead\n",
      "  wd2 = driver.find_element_by_xpath('//*[@id=\"home-tabpanel\"]/main/div/ul/li[5]/a[2]')\n",
      "<ipython-input-17-5a24c18e5ab7>:28: DeprecationWarning: find_element_by_* commands are deprecated. Please use find_element() instead\n",
      "  wd1 = driver.find_element_by_xpath('//*[@id=\"home-tabpanel\"]/main/div/ul/li[5]/a[3]')\n"
     ]
    }
   ],
   "source": [
    "import time\n",
    "from selenium import webdriver\n",
    "from bs4 import BeautifulSoup\n",
    "\n",
    "url = \"https://www.coursera.org/degrees/bachelor-of-science-computer-science-london?authMode=login\"\n",
    "import time\n",
    "\n",
    "driver = webdriver.Chrome(\n",
    "    executable_path=r\"C:\\\\Users\\\\hanna\\\\Downloads\\\\chromedriver.exe\")\n",
    "driver.get(url)\n",
    "\n",
    "driver.find_element_by_id(\"email\").send_keys(\"explorationyear2020@gmail.com\")\n",
    "driver.find_element_by_id(\"password\").send_keys(\"Whatdreamlife@20\")\n",
    "driver.find_element_by_xpath(\"//button[@type='submit']\").click()\n",
    "\n",
    "time.sleep(10)\n",
    "driver.get(\"https://www.coursera.org/degrees/bachelor-of-science-computer-science-london/home\")\n",
    "\n",
    "\n",
    "time.sleep(5)\n",
    "driver.find_element_by_xpath('//*[@id=\"home-tabpanel\"]/main/div/div/div/div/button[1]').click()\n",
    "driver.find_element_by_xpath('//*[@id=\"home-tabpanel\"]/main/div/div/div/div/button[1]').click()\n",
    "\n",
    "time.sleep(5)\n",
    "ads = driver.find_element_by_xpath('//*[@id=\"home-tabpanel\"]/main/div/ul/li[1]/a[2]')\n",
    "pwd = driver.find_element_by_xpath('//*[@id=\"home-tabpanel\"]/main/div/ul/li[2]/a[2]')\n",
    "wd2 = driver.find_element_by_xpath('//*[@id=\"home-tabpanel\"]/main/div/ul/li[5]/a[2]')\n",
    "wd1 = driver.find_element_by_xpath('//*[@id=\"home-tabpanel\"]/main/div/ul/li[5]/a[3]')"
   ]
  },
  {
   "cell_type": "code",
   "execution_count": 19,
   "metadata": {},
   "outputs": [
    {
     "name": "stdout",
     "output_type": "stream",
     "text": [
      "ADS1\n",
      " Graded Assignment: Sudoku assignment [001]20hJan 24, 9:00 PM CST\n",
      "In review\n",
      "PwD\n",
      " Graded Assignment: Mid-term programming assignment [001]3hJan 24, 9:00 PM CST\n",
      "In review\n",
      "WD-1\n",
      " Graded Team Assignment: Coursework 1.1 A single bundled team assignment submission [001]3hJan 24, 9:00 PM CST\n",
      "In review\n",
      "WD-2\n",
      " Graded Assignment: Coursework 1.2 Submission of the individual reflective piece [001]3hJan 24, 9:00 PM CST\n",
      "In review\n"
     ]
    }
   ],
   "source": [
    "print('ADS1\\n', ads.text)\n",
    "print('PwD\\n', pwd.text)\n",
    "print('WD-1\\n', wd1.text)\n",
    "print('WD-2\\n', wd2.text)\n"
   ]
  },
  {
   "cell_type": "code",
   "execution_count": 2,
   "metadata": {},
   "outputs": [
    {
     "name": "stderr",
     "output_type": "stream",
     "text": [
      "\n",
      "\n",
      "====== WebDriver manager ======\n",
      "Current google-chrome version is 98.0.4758\n",
      "Get LATEST chromedriver version for 98.0.4758 google-chrome\n",
      "Driver [C:\\Users\\hanna\\.wdm\\drivers\\chromedriver\\win32\\98.0.4758.80\\chromedriver.exe] found in cache\n",
      "<ipython-input-2-97aacfdd589a>:42: DeprecationWarning: find_element_by_* commands are deprecated. Please use find_element() instead\n",
      "  driver.find_element_by_xpath(LEFT_BUTTON_PATH).click()\n"
     ]
    },
    {
     "ename": "NoSuchElementException",
     "evalue": "Message: no such element: Unable to locate element: {\"method\":\"xpath\",\"selector\":\"//*[@id=\"home-tabpanel\"]/main/div/div/div/div/button[1]\"}\n  (Session info: chrome=98.0.4758.82)\nStacktrace:\nBacktrace:\n\tOrdinal0 [0x00B47AC3+2587331]\n\tOrdinal0 [0x00ADADD1+2141649]\n\tOrdinal0 [0x009D3BB8+1063864]\n\tOrdinal0 [0x00A001CE+1245646]\n\tOrdinal0 [0x00A003CB+1246155]\n\tOrdinal0 [0x00A2A612+1418770]\n\tOrdinal0 [0x00A186D4+1345236]\n\tOrdinal0 [0x00A28A0A+1411594]\n\tOrdinal0 [0x00A184A6+1344678]\n\tOrdinal0 [0x009F53F6+1201142]\n\tOrdinal0 [0x009F62E6+1204966]\n\tGetHandleVerifier [0x00CEDF22+1680738]\n\tGetHandleVerifier [0x00DA0DBC+2413564]\n\tGetHandleVerifier [0x00BDD151+563089]\n\tGetHandleVerifier [0x00BDBF13+558419]\n\tOrdinal0 [0x00AE081E+2164766]\n\tOrdinal0 [0x00AE5508+2184456]\n\tOrdinal0 [0x00AE5650+2184784]\n\tOrdinal0 [0x00AEF5BC+2225596]\n\tBaseThreadInitThunk [0x76696739+25]\n\tRtlGetFullPathName_UEx [0x777C8E7F+1215]\n\tRtlGetFullPathName_UEx [0x777C8E4D+1165]\n",
     "output_type": "error",
     "traceback": [
      "\u001b[1;31m---------------------------------------------------------------------------\u001b[0m",
      "\u001b[1;31mNoSuchElementException\u001b[0m                    Traceback (most recent call last)",
      "\u001b[1;32m<ipython-input-2-97aacfdd589a>\u001b[0m in \u001b[0;36m<module>\u001b[1;34m\u001b[0m\n\u001b[0;32m     83\u001b[0m     \u001b[0mdriver\u001b[0m\u001b[1;33m.\u001b[0m\u001b[0mclose\u001b[0m\u001b[1;33m(\u001b[0m\u001b[1;33m)\u001b[0m\u001b[1;33m\u001b[0m\u001b[1;33m\u001b[0m\u001b[0m\n\u001b[0;32m     84\u001b[0m \u001b[1;33m\u001b[0m\u001b[0m\n\u001b[1;32m---> 85\u001b[1;33m \u001b[0mrun\u001b[0m\u001b[1;33m(\u001b[0m\u001b[1;33m)\u001b[0m\u001b[1;33m\u001b[0m\u001b[1;33m\u001b[0m\u001b[0m\n\u001b[0m",
      "\u001b[1;32m<ipython-input-2-97aacfdd589a>\u001b[0m in \u001b[0;36mrun\u001b[1;34m()\u001b[0m\n\u001b[0;32m     79\u001b[0m     \u001b[1;32mwhile\u001b[0m \u001b[0mdriver\u001b[0m\u001b[1;33m.\u001b[0m\u001b[0mtitle\u001b[0m \u001b[1;33m!=\u001b[0m \u001b[0mBSBC_HOME_TITLE\u001b[0m\u001b[1;33m:\u001b[0m\u001b[1;33m\u001b[0m\u001b[1;33m\u001b[0m\u001b[0m\n\u001b[0;32m     80\u001b[0m         \u001b[0mdriver\u001b[0m\u001b[1;33m.\u001b[0m\u001b[0mget\u001b[0m\u001b[1;33m(\u001b[0m\u001b[0murl\u001b[0m\u001b[1;33m)\u001b[0m\u001b[1;33m\u001b[0m\u001b[1;33m\u001b[0m\u001b[0m\n\u001b[1;32m---> 81\u001b[1;33m         \u001b[0mparsePage\u001b[0m\u001b[1;33m(\u001b[0m\u001b[1;33m)\u001b[0m\u001b[1;33m\u001b[0m\u001b[1;33m\u001b[0m\u001b[0m\n\u001b[0m\u001b[0;32m     82\u001b[0m \u001b[1;33m\u001b[0m\u001b[0m\n\u001b[0;32m     83\u001b[0m     \u001b[0mdriver\u001b[0m\u001b[1;33m.\u001b[0m\u001b[0mclose\u001b[0m\u001b[1;33m(\u001b[0m\u001b[1;33m)\u001b[0m\u001b[1;33m\u001b[0m\u001b[1;33m\u001b[0m\u001b[0m\n",
      "\u001b[1;32m<ipython-input-2-97aacfdd589a>\u001b[0m in \u001b[0;36mparsePage\u001b[1;34m()\u001b[0m\n\u001b[0;32m     40\u001b[0m         \u001b[0mtime\u001b[0m\u001b[1;33m.\u001b[0m\u001b[0msleep\u001b[0m\u001b[1;33m(\u001b[0m\u001b[1;36m1\u001b[0m\u001b[1;33m)\u001b[0m\u001b[1;33m\u001b[0m\u001b[1;33m\u001b[0m\u001b[0m\n\u001b[0;32m     41\u001b[0m \u001b[1;33m\u001b[0m\u001b[0m\n\u001b[1;32m---> 42\u001b[1;33m         \u001b[0mdriver\u001b[0m\u001b[1;33m.\u001b[0m\u001b[0mfind_element_by_xpath\u001b[0m\u001b[1;33m(\u001b[0m\u001b[0mLEFT_BUTTON_PATH\u001b[0m\u001b[1;33m)\u001b[0m\u001b[1;33m.\u001b[0m\u001b[0mclick\u001b[0m\u001b[1;33m(\u001b[0m\u001b[1;33m)\u001b[0m\u001b[1;33m\u001b[0m\u001b[1;33m\u001b[0m\u001b[0m\n\u001b[0m\u001b[0;32m     43\u001b[0m \u001b[1;33m\u001b[0m\u001b[0m\n\u001b[0;32m     44\u001b[0m         \u001b[0mtime\u001b[0m\u001b[1;33m.\u001b[0m\u001b[0msleep\u001b[0m\u001b[1;33m(\u001b[0m\u001b[1;36m4\u001b[0m\u001b[1;33m)\u001b[0m\u001b[1;33m\u001b[0m\u001b[1;33m\u001b[0m\u001b[0m\n",
      "\u001b[1;32m~\\anaconda3\\lib\\site-packages\\selenium\\webdriver\\remote\\webdriver.py\u001b[0m in \u001b[0;36mfind_element_by_xpath\u001b[1;34m(self, xpath)\u001b[0m\n\u001b[0;32m    518\u001b[0m             \u001b[0mstacklevel\u001b[0m\u001b[1;33m=\u001b[0m\u001b[1;36m2\u001b[0m\u001b[1;33m,\u001b[0m\u001b[1;33m\u001b[0m\u001b[1;33m\u001b[0m\u001b[0m\n\u001b[0;32m    519\u001b[0m         )\n\u001b[1;32m--> 520\u001b[1;33m         \u001b[1;32mreturn\u001b[0m \u001b[0mself\u001b[0m\u001b[1;33m.\u001b[0m\u001b[0mfind_element\u001b[0m\u001b[1;33m(\u001b[0m\u001b[0mby\u001b[0m\u001b[1;33m=\u001b[0m\u001b[0mBy\u001b[0m\u001b[1;33m.\u001b[0m\u001b[0mXPATH\u001b[0m\u001b[1;33m,\u001b[0m \u001b[0mvalue\u001b[0m\u001b[1;33m=\u001b[0m\u001b[0mxpath\u001b[0m\u001b[1;33m)\u001b[0m\u001b[1;33m\u001b[0m\u001b[1;33m\u001b[0m\u001b[0m\n\u001b[0m\u001b[0;32m    521\u001b[0m \u001b[1;33m\u001b[0m\u001b[0m\n\u001b[0;32m    522\u001b[0m     \u001b[1;32mdef\u001b[0m \u001b[0mfind_elements_by_xpath\u001b[0m\u001b[1;33m(\u001b[0m\u001b[0mself\u001b[0m\u001b[1;33m,\u001b[0m \u001b[0mxpath\u001b[0m\u001b[1;33m)\u001b[0m \u001b[1;33m->\u001b[0m \u001b[0mWebElement\u001b[0m\u001b[1;33m:\u001b[0m\u001b[1;33m\u001b[0m\u001b[1;33m\u001b[0m\u001b[0m\n",
      "\u001b[1;32m~\\anaconda3\\lib\\site-packages\\selenium\\webdriver\\remote\\webdriver.py\u001b[0m in \u001b[0;36mfind_element\u001b[1;34m(self, by, value)\u001b[0m\n\u001b[0;32m   1242\u001b[0m             \u001b[0mvalue\u001b[0m \u001b[1;33m=\u001b[0m \u001b[1;34m'[name=\"%s\"]'\u001b[0m \u001b[1;33m%\u001b[0m \u001b[0mvalue\u001b[0m\u001b[1;33m\u001b[0m\u001b[1;33m\u001b[0m\u001b[0m\n\u001b[0;32m   1243\u001b[0m \u001b[1;33m\u001b[0m\u001b[0m\n\u001b[1;32m-> 1244\u001b[1;33m         return self.execute(Command.FIND_ELEMENT, {\n\u001b[0m\u001b[0;32m   1245\u001b[0m             \u001b[1;34m'using'\u001b[0m\u001b[1;33m:\u001b[0m \u001b[0mby\u001b[0m\u001b[1;33m,\u001b[0m\u001b[1;33m\u001b[0m\u001b[1;33m\u001b[0m\u001b[0m\n\u001b[0;32m   1246\u001b[0m             'value': value})['value']\n",
      "\u001b[1;32m~\\anaconda3\\lib\\site-packages\\selenium\\webdriver\\remote\\webdriver.py\u001b[0m in \u001b[0;36mexecute\u001b[1;34m(self, driver_command, params)\u001b[0m\n\u001b[0;32m    422\u001b[0m         \u001b[0mresponse\u001b[0m \u001b[1;33m=\u001b[0m \u001b[0mself\u001b[0m\u001b[1;33m.\u001b[0m\u001b[0mcommand_executor\u001b[0m\u001b[1;33m.\u001b[0m\u001b[0mexecute\u001b[0m\u001b[1;33m(\u001b[0m\u001b[0mdriver_command\u001b[0m\u001b[1;33m,\u001b[0m \u001b[0mparams\u001b[0m\u001b[1;33m)\u001b[0m\u001b[1;33m\u001b[0m\u001b[1;33m\u001b[0m\u001b[0m\n\u001b[0;32m    423\u001b[0m         \u001b[1;32mif\u001b[0m \u001b[0mresponse\u001b[0m\u001b[1;33m:\u001b[0m\u001b[1;33m\u001b[0m\u001b[1;33m\u001b[0m\u001b[0m\n\u001b[1;32m--> 424\u001b[1;33m             \u001b[0mself\u001b[0m\u001b[1;33m.\u001b[0m\u001b[0merror_handler\u001b[0m\u001b[1;33m.\u001b[0m\u001b[0mcheck_response\u001b[0m\u001b[1;33m(\u001b[0m\u001b[0mresponse\u001b[0m\u001b[1;33m)\u001b[0m\u001b[1;33m\u001b[0m\u001b[1;33m\u001b[0m\u001b[0m\n\u001b[0m\u001b[0;32m    425\u001b[0m             response['value'] = self._unwrap_value(\n\u001b[0;32m    426\u001b[0m                 response.get('value', None))\n",
      "\u001b[1;32m~\\anaconda3\\lib\\site-packages\\selenium\\webdriver\\remote\\errorhandler.py\u001b[0m in \u001b[0;36mcheck_response\u001b[1;34m(self, response)\u001b[0m\n\u001b[0;32m    245\u001b[0m                 \u001b[0malert_text\u001b[0m \u001b[1;33m=\u001b[0m \u001b[0mvalue\u001b[0m\u001b[1;33m[\u001b[0m\u001b[1;34m'alert'\u001b[0m\u001b[1;33m]\u001b[0m\u001b[1;33m.\u001b[0m\u001b[0mget\u001b[0m\u001b[1;33m(\u001b[0m\u001b[1;34m'text'\u001b[0m\u001b[1;33m)\u001b[0m\u001b[1;33m\u001b[0m\u001b[1;33m\u001b[0m\u001b[0m\n\u001b[0;32m    246\u001b[0m             \u001b[1;32mraise\u001b[0m \u001b[0mexception_class\u001b[0m\u001b[1;33m(\u001b[0m\u001b[0mmessage\u001b[0m\u001b[1;33m,\u001b[0m \u001b[0mscreen\u001b[0m\u001b[1;33m,\u001b[0m \u001b[0mstacktrace\u001b[0m\u001b[1;33m,\u001b[0m \u001b[0malert_text\u001b[0m\u001b[1;33m)\u001b[0m  \u001b[1;31m# type: ignore[call-arg]  # mypy is not smart enough here\u001b[0m\u001b[1;33m\u001b[0m\u001b[1;33m\u001b[0m\u001b[0m\n\u001b[1;32m--> 247\u001b[1;33m         \u001b[1;32mraise\u001b[0m \u001b[0mexception_class\u001b[0m\u001b[1;33m(\u001b[0m\u001b[0mmessage\u001b[0m\u001b[1;33m,\u001b[0m \u001b[0mscreen\u001b[0m\u001b[1;33m,\u001b[0m \u001b[0mstacktrace\u001b[0m\u001b[1;33m)\u001b[0m\u001b[1;33m\u001b[0m\u001b[1;33m\u001b[0m\u001b[0m\n\u001b[0m\u001b[0;32m    248\u001b[0m \u001b[1;33m\u001b[0m\u001b[0m\n\u001b[0;32m    249\u001b[0m     \u001b[1;32mdef\u001b[0m \u001b[0m_value_or_default\u001b[0m\u001b[1;33m(\u001b[0m\u001b[0mself\u001b[0m\u001b[1;33m,\u001b[0m \u001b[0mobj\u001b[0m\u001b[1;33m:\u001b[0m \u001b[0mMapping\u001b[0m\u001b[1;33m[\u001b[0m\u001b[0m_KT\u001b[0m\u001b[1;33m,\u001b[0m \u001b[0m_VT\u001b[0m\u001b[1;33m]\u001b[0m\u001b[1;33m,\u001b[0m \u001b[0mkey\u001b[0m\u001b[1;33m:\u001b[0m \u001b[0m_KT\u001b[0m\u001b[1;33m,\u001b[0m \u001b[0mdefault\u001b[0m\u001b[1;33m:\u001b[0m \u001b[0m_VT\u001b[0m\u001b[1;33m)\u001b[0m \u001b[1;33m->\u001b[0m \u001b[0m_VT\u001b[0m\u001b[1;33m:\u001b[0m\u001b[1;33m\u001b[0m\u001b[1;33m\u001b[0m\u001b[0m\n",
      "\u001b[1;31mNoSuchElementException\u001b[0m: Message: no such element: Unable to locate element: {\"method\":\"xpath\",\"selector\":\"//*[@id=\"home-tabpanel\"]/main/div/div/div/div/button[1]\"}\n  (Session info: chrome=98.0.4758.82)\nStacktrace:\nBacktrace:\n\tOrdinal0 [0x00B47AC3+2587331]\n\tOrdinal0 [0x00ADADD1+2141649]\n\tOrdinal0 [0x009D3BB8+1063864]\n\tOrdinal0 [0x00A001CE+1245646]\n\tOrdinal0 [0x00A003CB+1246155]\n\tOrdinal0 [0x00A2A612+1418770]\n\tOrdinal0 [0x00A186D4+1345236]\n\tOrdinal0 [0x00A28A0A+1411594]\n\tOrdinal0 [0x00A184A6+1344678]\n\tOrdinal0 [0x009F53F6+1201142]\n\tOrdinal0 [0x009F62E6+1204966]\n\tGetHandleVerifier [0x00CEDF22+1680738]\n\tGetHandleVerifier [0x00DA0DBC+2413564]\n\tGetHandleVerifier [0x00BDD151+563089]\n\tGetHandleVerifier [0x00BDBF13+558419]\n\tOrdinal0 [0x00AE081E+2164766]\n\tOrdinal0 [0x00AE5508+2184456]\n\tOrdinal0 [0x00AE5650+2184784]\n\tOrdinal0 [0x00AEF5BC+2225596]\n\tBaseThreadInitThunk [0x76696739+25]\n\tRtlGetFullPathName_UEx [0x777C8E7F+1215]\n\tRtlGetFullPathName_UEx [0x777C8E4D+1165]\n"
     ]
    }
   ],
   "source": [
    "#!/usr/bin/python3\n",
    "\n",
    "from selenium import webdriver\n",
    "from selenium.webdriver.chrome.service import Service\n",
    "from webdriver_manager.chrome import ChromeDriverManager\n",
    "from selenium.webdriver.chrome.options import Options\n",
    "import time\n",
    "import os\n",
    "\n",
    "CHROME_DRIVE_PATH = \"D:\\\\Application\\\\chromedriver.exe\"\n",
    "BINARY_PATH = 'C:\\\\Program Files\\\\Google\\\\Chrome\\\\Application\\\\chrome.exe'\n",
    "USER_DATA_DIR = \"C:\\\\Users\\\\hanna\\\\AppData\\\\Local\\\\Google\\\\Chrome\\\\User Data\\\\Default\"\n",
    "PROFILE_DIR = 'C:\\\\Users\\\\hanna\\\\AppData\\\\Local\\\\Google\\\\Chrome\\\\User Data\\\\Default\\\\Profile 1'\n",
    "BSBC_HOME_TITLE = \"Bachelor of Science in Computer Science | Home | Coursera\"\n",
    "\n",
    "\n",
    "login_url = \"https://www.coursera.org/degrees/bachelor-of-science-computer-science-london?authMode=login\"\n",
    "url = \"https://www.coursera.org/degrees/bachelor-of-science-computer-science-london/home\"\n",
    "\n",
    "s = Service(ChromeDriverManager().install())\n",
    "options = Options()\n",
    "options.binary_location = BINARY_PATH\n",
    "options.add_argument(\"--user-data-dir=\"+USER_DATA_DIR)\n",
    "options.add_argument(\"--profile-directory=\"+PROFILE_DIR)\n",
    "\n",
    "driver = webdriver.Chrome(options=options, service=s)\n",
    "driver.set_window_position(0, 0)\n",
    "driver.set_window_rect(1, 1)\n",
    "\n",
    "\n",
    "def parsePage():\n",
    "    driver.minimize_window()\n",
    "\n",
    "    found_grade = False\n",
    "\n",
    "    while found_grade == False:\n",
    "        # wait a bit and click the left button twice (change later as the week increases)\n",
    "        LEFT_BUTTON_PATH = '//*[@id=\"home-tabpanel\"]/main/div/div/div/div/button[1]'\n",
    "\n",
    "        time.sleep(3)\n",
    "\n",
    "        driver.find_element_by_xpath(LEFT_BUTTON_PATH).click()\n",
    "\n",
    "        time.sleep(4)\n",
    "\n",
    "        # find all of <a> tags\n",
    "        A_TAG_PATH = '//a[@data-click-key=\"degree_home.degree_home_page.click.item_link\"]'\n",
    "\n",
    "        a_tags = driver.find_elements_by_xpath(A_TAG_PATH)\n",
    "\n",
    "        # find all module titles\n",
    "        SPAN_TAG_PATH = '//span[@class=\"bold\"]'\n",
    "        title_tags = driver.find_elements_by_xpath(SPAN_TAG_PATH)\n",
    "\n",
    "        time.sleep(2)\n",
    "\n",
    "        # if there exists a keyword \"In review\", that's the one\n",
    "        # then, exit the while loop\n",
    "        # otherwise, keep searching by click the left button again\n",
    "        if len(a_tags) > 0:\n",
    "            os.system(\"clear\")\n",
    "            print(\"Validating...\\n\")\n",
    "\n",
    "            for idx, txt in enumerate(a_tags):\n",
    "                content = txt.get_attribute(\"aria-label\")\n",
    "                time.sleep(1)\n",
    "                if 'In Review' in content:\n",
    "                    found_grade = True\n",
    "                    print('#{} [{}]:\\n {}\\n-------------------------------------------'\n",
    "                          .format(idx+1, title_tags[idx].text, content))\n",
    "        print(\"\\n\")\n",
    "\n",
    "\n",
    "def run():\n",
    "    # time for you to be authorized\n",
    "    time.sleep(2)\n",
    "\n",
    "    # check if it's redirected to the BSCS home\n",
    "    while driver.title != BSBC_HOME_TITLE:\n",
    "        driver.get(url)\n",
    "        parsePage()\n",
    "\n",
    "    driver.close()\n",
    "    \n",
    "run()\n"
   ]
  },
  {
   "cell_type": "code",
   "execution_count": null,
   "metadata": {},
   "outputs": [],
   "source": []
  }
 ],
 "metadata": {
  "interpreter": {
   "hash": "8944ac20941febd3898b0b9a08c0e7cafc7c4835a26d6ed6b5e365f07f1b2728"
  },
  "kernelspec": {
   "display_name": "Python 3.8.10 64-bit ('base': conda)",
   "language": "python",
   "name": "python3"
  },
  "language_info": {
   "codemirror_mode": {
    "name": "ipython",
    "version": 3
   },
   "file_extension": ".py",
   "mimetype": "text/x-python",
   "name": "python",
   "nbconvert_exporter": "python",
   "pygments_lexer": "ipython3",
   "version": "3.9.6"
  },
  "orig_nbformat": 4
 },
 "nbformat": 4,
 "nbformat_minor": 2
}
