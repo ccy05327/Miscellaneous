{
 "cells": [
  {
   "cell_type": "markdown",
   "metadata": {},
   "source": [
    "Extract Grade from Inspector"
   ]
  },
  {
   "cell_type": "code",
   "execution_count": 10,
   "metadata": {},
   "outputs": [],
   "source": [
    "import pandas as pd\n",
    "from pandas import json_normalize\n",
    "import json\n",
    "from bs4 import BeautifulSoup\n",
    "import requests"
   ]
  },
  {
   "cell_type": "markdown",
   "metadata": {},
   "source": [
    "read json file"
   ]
  },
  {
   "cell_type": "code",
   "execution_count": 11,
   "metadata": {},
   "outputs": [],
   "source": [
    "with open('output.json', 'r') as j:\n",
    "    content = json.loads(j.read())"
   ]
  },
  {
   "cell_type": "markdown",
   "metadata": {},
   "source": [
    "change header names"
   ]
  },
  {
   "cell_type": "code",
   "execution_count": 12,
   "metadata": {},
   "outputs": [],
   "source": [
    "df = pd.json_normalize(content)\n",
    "df.rename(columns={'assignment.isOverdue': 'overdue', 'assignment.assignmentName': 'name',\n",
    "                   'assignment.courseName': 'course', 'assignment.assignmentType': 'type',\n",
    "                   'assignment.progressState': 'progress', 'assignment.isComplete': 'complete',\n",
    "                   'assignment.assignmentUrl':'url-a', 'assignment.courseUrl': 'url-c',\n",
    "                   'assignment.dueAtTime': 'due-time', 'assignment.grade': 'grade', 'assignment.gradingWeight': 'weight', 'assignment.gradedAtTime': 'graded-time', 'event.eventTitle': 'event-title', 'event.courseName': 'event-name', 'event.eventUrl': 'url-e', 'event.courseUrl': 'url-c-e', 'event.startTime': 'event-start', 'event.endTime': 'event-end'}, inplace=True)\n",
    "# df.columns"
   ]
  },
  {
   "cell_type": "markdown",
   "metadata": {},
   "source": [
    "extract needed columns"
   ]
  },
  {
   "cell_type": "code",
   "execution_count": 13,
   "metadata": {},
   "outputs": [
    {
     "data": {
      "text/html": [
       "<div>\n",
       "<style scoped>\n",
       "    .dataframe tbody tr th:only-of-type {\n",
       "        vertical-align: middle;\n",
       "    }\n",
       "\n",
       "    .dataframe tbody tr th {\n",
       "        vertical-align: top;\n",
       "    }\n",
       "\n",
       "    .dataframe thead th {\n",
       "        text-align: right;\n",
       "    }\n",
       "</style>\n",
       "<table border=\"1\" class=\"dataframe\">\n",
       "  <thead>\n",
       "    <tr style=\"text-align: right;\">\n",
       "      <th></th>\n",
       "      <th>name</th>\n",
       "      <th>grade</th>\n",
       "      <th>weight</th>\n",
       "      <th>graded-time</th>\n",
       "    </tr>\n",
       "  </thead>\n",
       "  <tbody>\n",
       "    <tr>\n",
       "      <th>0</th>\n",
       "      <td>1.304 Multiple files</td>\n",
       "      <td>1.0</td>\n",
       "      <td>0.0</td>\n",
       "      <td>2021-04-20T01:03:54.607Z</td>\n",
       "    </tr>\n",
       "    <tr>\n",
       "      <th>1</th>\n",
       "      <td>2.209 P5.dom</td>\n",
       "      <td>1.0</td>\n",
       "      <td>0.0</td>\n",
       "      <td>2021-04-26T12:04:49.617Z</td>\n",
       "    </tr>\n",
       "    <tr>\n",
       "      <th>2</th>\n",
       "      <td>2.301 Case study 1</td>\n",
       "      <td>NaN</td>\n",
       "      <td>0.0</td>\n",
       "      <td>NaN</td>\n",
       "    </tr>\n",
       "    <tr>\n",
       "      <th>3</th>\n",
       "      <td>3.301 Case study 2</td>\n",
       "      <td>NaN</td>\n",
       "      <td>0.0</td>\n",
       "      <td>NaN</td>\n",
       "    </tr>\n",
       "    <tr>\n",
       "      <th>4</th>\n",
       "      <td>4.301 Case study 3</td>\n",
       "      <td>NaN</td>\n",
       "      <td>0.0</td>\n",
       "      <td>NaN</td>\n",
       "    </tr>\n",
       "  </tbody>\n",
       "</table>\n",
       "</div>"
      ],
      "text/plain": [
       "                   name  grade  weight               graded-time\n",
       "0  1.304 Multiple files    1.0     0.0  2021-04-20T01:03:54.607Z\n",
       "1          2.209 P5.dom    1.0     0.0  2021-04-26T12:04:49.617Z\n",
       "2    2.301 Case study 1    NaN     0.0                       NaN\n",
       "3    3.301 Case study 2    NaN     0.0                       NaN\n",
       "4    4.301 Case study 3    NaN     0.0                       NaN"
      ]
     },
     "execution_count": 13,
     "metadata": {},
     "output_type": "execute_result"
    }
   ],
   "source": [
    "df = df[['name', 'grade', 'weight', 'graded-time']]\n",
    "df.head()"
   ]
  },
  {
   "cell_type": "markdown",
   "metadata": {},
   "source": [
    "different ways to view"
   ]
  },
  {
   "cell_type": "code",
   "execution_count": 14,
   "metadata": {},
   "outputs": [
    {
     "data": {
      "text/plain": [
       "30   NaN\n",
       "Name: grade, dtype: float64"
      ]
     },
     "execution_count": 14,
     "metadata": {},
     "output_type": "execute_result"
    }
   ],
   "source": [
    "# change name to your assignment name to view grade\n",
    "df[df.name=='Sudoku assignment [001]'].grade"
   ]
  },
  {
   "cell_type": "code",
   "execution_count": 15,
   "metadata": {},
   "outputs": [],
   "source": [
    "W = '\\033[0m';R = '\\033[31m';G = '\\033[32m';Y = '\\033[33m';B = '\\033[34m';P = '\\033[35m'"
   ]
  },
  {
   "cell_type": "markdown",
   "metadata": {},
   "source": [
    "Extract by index (because I know the index by heart now)"
   ]
  },
  {
   "cell_type": "code",
   "execution_count": 16,
   "metadata": {},
   "outputs": [
    {
     "data": {
      "text/html": [
       "<div>\n",
       "<style scoped>\n",
       "    .dataframe tbody tr th:only-of-type {\n",
       "        vertical-align: middle;\n",
       "    }\n",
       "\n",
       "    .dataframe tbody tr th {\n",
       "        vertical-align: top;\n",
       "    }\n",
       "\n",
       "    .dataframe thead th {\n",
       "        text-align: right;\n",
       "    }\n",
       "</style>\n",
       "<table border=\"1\" class=\"dataframe\">\n",
       "  <thead>\n",
       "    <tr style=\"text-align: right;\">\n",
       "      <th></th>\n",
       "      <th>name</th>\n",
       "      <th>grade</th>\n",
       "      <th>weight</th>\n",
       "      <th>graded-time</th>\n",
       "    </tr>\n",
       "  </thead>\n",
       "  <tbody>\n",
       "    <tr>\n",
       "      <th>30</th>\n",
       "      <td>Sudoku assignment [001]</td>\n",
       "      <td>NaN</td>\n",
       "      <td>0.40000</td>\n",
       "      <td>NaN</td>\n",
       "    </tr>\n",
       "    <tr>\n",
       "      <th>31</th>\n",
       "      <td>Mid-term programming assignment [001]</td>\n",
       "      <td>NaN</td>\n",
       "      <td>0.50000</td>\n",
       "      <td>NaN</td>\n",
       "    </tr>\n",
       "    <tr>\n",
       "      <th>32</th>\n",
       "      <td>Coursework 1.2 Submission of the individual re...</td>\n",
       "      <td>NaN</td>\n",
       "      <td>0.09999</td>\n",
       "      <td>NaN</td>\n",
       "    </tr>\n",
       "    <tr>\n",
       "      <th>33</th>\n",
       "      <td>Coursework 1.1 A single bundled team assignmen...</td>\n",
       "      <td>NaN</td>\n",
       "      <td>0.20001</td>\n",
       "      <td>NaN</td>\n",
       "    </tr>\n",
       "  </tbody>\n",
       "</table>\n",
       "</div>"
      ],
      "text/plain": [
       "                                                 name  grade   weight  \\\n",
       "30                            Sudoku assignment [001]    NaN  0.40000   \n",
       "31              Mid-term programming assignment [001]    NaN  0.50000   \n",
       "32  Coursework 1.2 Submission of the individual re...    NaN  0.09999   \n",
       "33  Coursework 1.1 A single bundled team assignmen...    NaN  0.20001   \n",
       "\n",
       "   graded-time  \n",
       "30         NaN  \n",
       "31         NaN  \n",
       "32         NaN  \n",
       "33         NaN  "
      ]
     },
     "execution_count": 16,
     "metadata": {},
     "output_type": "execute_result"
    }
   ],
   "source": [
    "# change index to your assignment indices to view\n",
    "df.iloc[[30, 31, 32, 33]]\n"
   ]
  },
  {
   "cell_type": "code",
   "execution_count": 17,
   "metadata": {},
   "outputs": [
    {
     "name": "stderr",
     "output_type": "stream",
     "text": [
      "<ipython-input-17-5a24c18e5ab7>:8: DeprecationWarning: executable_path has been deprecated, please pass in a Service object\n",
      "  driver = webdriver.Chrome(\n",
      "<ipython-input-17-5a24c18e5ab7>:12: DeprecationWarning: find_element_by_* commands are deprecated. Please use find_element() instead\n",
      "  driver.find_element_by_id(\"email\").send_keys(\"explorationyear2020@gmail.com\")\n",
      "<ipython-input-17-5a24c18e5ab7>:13: DeprecationWarning: find_element_by_* commands are deprecated. Please use find_element() instead\n",
      "  driver.find_element_by_id(\"password\").send_keys(\"Whatdreamlife@20\")\n",
      "<ipython-input-17-5a24c18e5ab7>:14: DeprecationWarning: find_element_by_* commands are deprecated. Please use find_element() instead\n",
      "  driver.find_element_by_xpath(\"//button[@type='submit']\").click()\n",
      "<ipython-input-17-5a24c18e5ab7>:21: DeprecationWarning: find_element_by_* commands are deprecated. Please use find_element() instead\n",
      "  driver.find_element_by_xpath('//*[@id=\"home-tabpanel\"]/main/div/div/div/div/button[1]').click()\n",
      "<ipython-input-17-5a24c18e5ab7>:22: DeprecationWarning: find_element_by_* commands are deprecated. Please use find_element() instead\n",
      "  driver.find_element_by_xpath('//*[@id=\"home-tabpanel\"]/main/div/div/div/div/button[1]').click()\n",
      "<ipython-input-17-5a24c18e5ab7>:25: DeprecationWarning: find_element_by_* commands are deprecated. Please use find_element() instead\n",
      "  ads = driver.find_element_by_xpath('//*[@id=\"home-tabpanel\"]/main/div/ul/li[1]/a[2]')\n",
      "<ipython-input-17-5a24c18e5ab7>:26: DeprecationWarning: find_element_by_* commands are deprecated. Please use find_element() instead\n",
      "  pwd = driver.find_element_by_xpath('//*[@id=\"home-tabpanel\"]/main/div/ul/li[2]/a[2]')\n",
      "<ipython-input-17-5a24c18e5ab7>:27: DeprecationWarning: find_element_by_* commands are deprecated. Please use find_element() instead\n",
      "  wd2 = driver.find_element_by_xpath('//*[@id=\"home-tabpanel\"]/main/div/ul/li[5]/a[2]')\n",
      "<ipython-input-17-5a24c18e5ab7>:28: DeprecationWarning: find_element_by_* commands are deprecated. Please use find_element() instead\n",
      "  wd1 = driver.find_element_by_xpath('//*[@id=\"home-tabpanel\"]/main/div/ul/li[5]/a[3]')\n"
     ]
    }
   ],
   "source": [
    "import time\n",
    "from selenium import webdriver\n",
    "from bs4 import BeautifulSoup\n",
    "\n",
    "url = \"https://www.coursera.org/degrees/bachelor-of-science-computer-science-london?authMode=login\"\n",
    "import time\n",
    "\n",
    "driver = webdriver.Chrome(\n",
    "    executable_path=r\"C:\\\\Users\\\\hanna\\\\Downloads\\\\chromedriver.exe\")\n",
    "driver.get(url)\n",
    "\n",
    "driver.find_element_by_id(\"email\").send_keys(\"explorationyear2020@gmail.com\")\n",
    "driver.find_element_by_id(\"password\").send_keys(\"Whatdreamlife@20\")\n",
    "driver.find_element_by_xpath(\"//button[@type='submit']\").click()\n",
    "\n",
    "time.sleep(10)\n",
    "driver.get(\"https://www.coursera.org/degrees/bachelor-of-science-computer-science-london/home\")\n",
    "\n",
    "\n",
    "time.sleep(5)\n",
    "driver.find_element_by_xpath('//*[@id=\"home-tabpanel\"]/main/div/div/div/div/button[1]').click()\n",
    "driver.find_element_by_xpath('//*[@id=\"home-tabpanel\"]/main/div/div/div/div/button[1]').click()\n",
    "\n",
    "time.sleep(5)\n",
    "ads = driver.find_element_by_xpath('//*[@id=\"home-tabpanel\"]/main/div/ul/li[1]/a[2]')\n",
    "pwd = driver.find_element_by_xpath('//*[@id=\"home-tabpanel\"]/main/div/ul/li[2]/a[2]')\n",
    "wd2 = driver.find_element_by_xpath('//*[@id=\"home-tabpanel\"]/main/div/ul/li[5]/a[2]')\n",
    "wd1 = driver.find_element_by_xpath('//*[@id=\"home-tabpanel\"]/main/div/ul/li[5]/a[3]')"
   ]
  },
  {
   "cell_type": "code",
   "execution_count": 19,
   "metadata": {},
   "outputs": [
    {
     "name": "stdout",
     "output_type": "stream",
     "text": [
      "ADS1\n",
      " Graded Assignment: Sudoku assignment [001]20hJan 24, 9:00 PM CST\n",
      "In review\n",
      "PwD\n",
      " Graded Assignment: Mid-term programming assignment [001]3hJan 24, 9:00 PM CST\n",
      "In review\n",
      "WD-1\n",
      " Graded Team Assignment: Coursework 1.1 A single bundled team assignment submission [001]3hJan 24, 9:00 PM CST\n",
      "In review\n",
      "WD-2\n",
      " Graded Assignment: Coursework 1.2 Submission of the individual reflective piece [001]3hJan 24, 9:00 PM CST\n",
      "In review\n"
     ]
    }
   ],
   "source": [
    "print('ADS1\\n', ads.text)\n",
    "print('PwD\\n', pwd.text)\n",
    "print('WD-1\\n', wd1.text)\n",
    "print('WD-2\\n', wd2.text)\n"
   ]
  },
  {
   "cell_type": "code",
   "execution_count": null,
   "metadata": {},
   "outputs": [],
   "source": []
  }
 ],
 "metadata": {
  "interpreter": {
   "hash": "8944ac20941febd3898b0b9a08c0e7cafc7c4835a26d6ed6b5e365f07f1b2728"
  },
  "kernelspec": {
   "display_name": "Python 3.8.10 64-bit ('base': conda)",
   "language": "python",
   "name": "python3"
  },
  "language_info": {
   "codemirror_mode": {
    "name": "ipython",
    "version": 3
   },
   "file_extension": ".py",
   "mimetype": "text/x-python",
   "name": "python",
   "nbconvert_exporter": "python",
   "pygments_lexer": "ipython3",
   "version": "3.8.10"
  },
  "orig_nbformat": 4
 },
 "nbformat": 4,
 "nbformat_minor": 2
}
