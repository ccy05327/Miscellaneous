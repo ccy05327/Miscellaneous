{
  "cells": [
    {
      "cell_type": "markdown",
      "metadata": {},
      "source": [
        "# Photo from Video by frame"
      ]
    },
    {
      "cell_type": "code",
      "execution_count": 1,
      "metadata": {},
      "outputs": [],
      "source": [
        "import os\n",
        "import cv2"
      ]
    },
    {
      "cell_type": "code",
      "execution_count": 2,
      "metadata": {},
      "outputs": [],
      "source": [
        "W = '\\033[0m'\n",
        "R = '\\033[31m'\n",
        "G = '\\033[32m'\n",
        "Y = '\\033[33m'\n",
        "B = '\\033[34m'\n",
        "P = '\\033[35m'"
      ]
    },
    {
      "cell_type": "code",
      "execution_count": null,
      "metadata": {},
      "outputs": [],
      "source": [
        "\n",
        "video_path = \"/Volumes/explorationyear2020@gmail.com - Google Drive/My Drive/Personal/Image/TSV/TSYT/Regular/20220208 Dear Pop Song MVs, Please Stop/4s-eddy-bomb.mp4\"\n",
        "\n",
        "# Read the video from specified path\n",
        "cam = cv2.VideoCapture(video_path)\n",
        "\n",
        "try:\n",
        "\t# creating a folder named data\n",
        "\tif not os.path.exists('data'):\n",
        "\t\tos.makedirs('data')\n",
        "\n",
        "# if not created then raise error\n",
        "except OSError:\n",
        "\tprint('Error: Creating directory of data')\n",
        "\n",
        "# frame\n",
        "currentframe = 0\n",
        "\n",
        "while(True):\n",
        "\t# reading from frame\n",
        "\tret, frame = cam.read()\n",
        "\tframeCount = 5\n",
        " \n",
        "\tif ret:\n",
        "\t\t# if video is still left continue creating images\n",
        "\t\tname = './data/eddy ' + str(int(currentframe/frameCount)) + '.jpg'\n",
        "\t\tprint('Creating ' + name)\n",
        "\n",
        "\t\t# writing the extracted images\n",
        "\t\tcv2.imwrite(name, frame)\n",
        "\n",
        "\t\t# increasing counter so that it will\n",
        "\t\t# show how many frames are created\n",
        "\t\tcurrentframe += frameCount\n",
        "\telse:\n",
        "\t\tbreak\n",
        "\n",
        "# Release all space and windows once done\n",
        "cam.release()\n",
        "cv2.destroyAllWindows()\n"
      ]
    },
    {
      "cell_type": "code",
      "execution_count": null,
      "metadata": {},
      "outputs": [],
      "source": []
    }
  ],
  "metadata": {
    "interpreter": {
      "hash": "84a30ceb2650150862adb2d2e24ccd60163a2cf34b76f7d3688bc4627aa7ba7e"
    },
    "kernelspec": {
      "display_name": "Python 3.9.6 64-bit ('pwdEnv': venv)",
      "language": "python",
      "name": "python3"
    },
    "language_info": {
      "codemirror_mode": {
        "name": "ipython",
        "version": 3
      },
      "file_extension": ".py",
      "mimetype": "text/x-python",
      "name": "python",
      "nbconvert_exporter": "python",
      "pygments_lexer": "ipython3",
      "version": "3.9.7"
    },
    "orig_nbformat": 4
  },
  "nbformat": 4,
  "nbformat_minor": 2
}
